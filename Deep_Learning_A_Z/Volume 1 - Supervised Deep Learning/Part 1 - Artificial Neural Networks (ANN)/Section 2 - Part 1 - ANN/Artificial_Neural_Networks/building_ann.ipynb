{
 "cells": [
  {
   "cell_type": "code",
   "execution_count": 65,
   "metadata": {},
   "outputs": [
    {
     "data": {
      "text/html": [
       "<div>\n",
       "<style scoped>\n",
       "    .dataframe tbody tr th:only-of-type {\n",
       "        vertical-align: middle;\n",
       "    }\n",
       "\n",
       "    .dataframe tbody tr th {\n",
       "        vertical-align: top;\n",
       "    }\n",
       "\n",
       "    .dataframe thead th {\n",
       "        text-align: right;\n",
       "    }\n",
       "</style>\n",
       "<table border=\"1\" class=\"dataframe\">\n",
       "  <thead>\n",
       "    <tr style=\"text-align: right;\">\n",
       "      <th></th>\n",
       "      <th>RowNumber</th>\n",
       "      <th>CustomerId</th>\n",
       "      <th>Surname</th>\n",
       "      <th>CreditScore</th>\n",
       "      <th>Geography</th>\n",
       "      <th>Gender</th>\n",
       "      <th>Age</th>\n",
       "      <th>Tenure</th>\n",
       "      <th>Balance</th>\n",
       "      <th>NumOfProducts</th>\n",
       "      <th>HasCrCard</th>\n",
       "      <th>IsActiveMember</th>\n",
       "      <th>EstimatedSalary</th>\n",
       "      <th>Exited</th>\n",
       "    </tr>\n",
       "  </thead>\n",
       "  <tbody>\n",
       "    <tr>\n",
       "      <th>0</th>\n",
       "      <td>1</td>\n",
       "      <td>15634602</td>\n",
       "      <td>Hargrave</td>\n",
       "      <td>619</td>\n",
       "      <td>France</td>\n",
       "      <td>Female</td>\n",
       "      <td>42</td>\n",
       "      <td>2</td>\n",
       "      <td>0.00</td>\n",
       "      <td>1</td>\n",
       "      <td>1</td>\n",
       "      <td>1</td>\n",
       "      <td>101348.88</td>\n",
       "      <td>1</td>\n",
       "    </tr>\n",
       "    <tr>\n",
       "      <th>1</th>\n",
       "      <td>2</td>\n",
       "      <td>15647311</td>\n",
       "      <td>Hill</td>\n",
       "      <td>608</td>\n",
       "      <td>Spain</td>\n",
       "      <td>Female</td>\n",
       "      <td>41</td>\n",
       "      <td>1</td>\n",
       "      <td>83807.86</td>\n",
       "      <td>1</td>\n",
       "      <td>0</td>\n",
       "      <td>1</td>\n",
       "      <td>112542.58</td>\n",
       "      <td>0</td>\n",
       "    </tr>\n",
       "    <tr>\n",
       "      <th>2</th>\n",
       "      <td>3</td>\n",
       "      <td>15619304</td>\n",
       "      <td>Onio</td>\n",
       "      <td>502</td>\n",
       "      <td>France</td>\n",
       "      <td>Female</td>\n",
       "      <td>42</td>\n",
       "      <td>8</td>\n",
       "      <td>159660.80</td>\n",
       "      <td>3</td>\n",
       "      <td>1</td>\n",
       "      <td>0</td>\n",
       "      <td>113931.57</td>\n",
       "      <td>1</td>\n",
       "    </tr>\n",
       "    <tr>\n",
       "      <th>3</th>\n",
       "      <td>4</td>\n",
       "      <td>15701354</td>\n",
       "      <td>Boni</td>\n",
       "      <td>699</td>\n",
       "      <td>France</td>\n",
       "      <td>Female</td>\n",
       "      <td>39</td>\n",
       "      <td>1</td>\n",
       "      <td>0.00</td>\n",
       "      <td>2</td>\n",
       "      <td>0</td>\n",
       "      <td>0</td>\n",
       "      <td>93826.63</td>\n",
       "      <td>0</td>\n",
       "    </tr>\n",
       "    <tr>\n",
       "      <th>4</th>\n",
       "      <td>5</td>\n",
       "      <td>15737888</td>\n",
       "      <td>Mitchell</td>\n",
       "      <td>850</td>\n",
       "      <td>Spain</td>\n",
       "      <td>Female</td>\n",
       "      <td>43</td>\n",
       "      <td>2</td>\n",
       "      <td>125510.82</td>\n",
       "      <td>1</td>\n",
       "      <td>1</td>\n",
       "      <td>1</td>\n",
       "      <td>79084.10</td>\n",
       "      <td>0</td>\n",
       "    </tr>\n",
       "  </tbody>\n",
       "</table>\n",
       "</div>"
      ],
      "text/plain": [
       "   RowNumber  CustomerId   Surname  CreditScore Geography  Gender  Age  \\\n",
       "0          1    15634602  Hargrave          619    France  Female   42   \n",
       "1          2    15647311      Hill          608     Spain  Female   41   \n",
       "2          3    15619304      Onio          502    France  Female   42   \n",
       "3          4    15701354      Boni          699    France  Female   39   \n",
       "4          5    15737888  Mitchell          850     Spain  Female   43   \n",
       "\n",
       "   Tenure    Balance  NumOfProducts  HasCrCard  IsActiveMember  \\\n",
       "0       2       0.00              1          1               1   \n",
       "1       1   83807.86              1          0               1   \n",
       "2       8  159660.80              3          1               0   \n",
       "3       1       0.00              2          0               0   \n",
       "4       2  125510.82              1          1               1   \n",
       "\n",
       "   EstimatedSalary  Exited  \n",
       "0        101348.88       1  \n",
       "1        112542.58       0  \n",
       "2        113931.57       1  \n",
       "3         93826.63       0  \n",
       "4         79084.10       0  "
      ]
     },
     "execution_count": 65,
     "metadata": {},
     "output_type": "execute_result"
    }
   ],
   "source": [
    "# Classification template\n",
    "\n",
    "# Importing the libraries\n",
    "import numpy as np\n",
    "import matplotlib.pyplot as plt\n",
    "import pandas as pd\n",
    "\n",
    "# Importing the dataset\n",
    "dataset = pd.read_csv('Churn_Modelling.csv')\n",
    "X = dataset.iloc[:, 3:13].values\n",
    "y = dataset.iloc[:, 13].values\n",
    "\n",
    "\n",
    "dataset.head()"
   ]
  },
  {
   "cell_type": "code",
   "execution_count": 41,
   "metadata": {},
   "outputs": [],
   "source": [
    "# Encoding categorical data\n",
    "# Encoding the Independent Variable\n",
    "from sklearn.preprocessing import LabelEncoder, OneHotEncoder\n",
    "labelencoder_X_1 = LabelEncoder() # Encode countries\n",
    "X[:, 1] = labelencoder_X_1.fit_transform(X[:, 1]) # Will encode the 3 country strings to 0,1,2\n",
    "\n",
    "labelencoder_X_2 = LabelEncoder() # Encode gender\n",
    "X[:, 2] = labelencoder_X_2.fit_transform(X[:, 2]) # Will encode country gender to 0,1\n"
   ]
  },
  {
   "cell_type": "code",
   "execution_count": 42,
   "metadata": {},
   "outputs": [
    {
     "name": "stderr",
     "output_type": "stream",
     "text": [
      "/Users/natepill/anaconda3/lib/python3.7/site-packages/sklearn/preprocessing/_encoders.py:368: FutureWarning: The handling of integer data will change in version 0.22. Currently, the categories are determined based on the range [0, max(values)], while in the future they will be determined based on the unique values.\n",
      "If you want the future behaviour and silence this warning, you can specify \"categories='auto'\".\n",
      "In case you used a LabelEncoder before this OneHotEncoder to convert the categories to integers, then you can now use the OneHotEncoder directly.\n",
      "  warnings.warn(msg, FutureWarning)\n",
      "/Users/natepill/anaconda3/lib/python3.7/site-packages/sklearn/preprocessing/_encoders.py:390: DeprecationWarning: The 'categorical_features' keyword is deprecated in version 0.20 and will be removed in 0.22. You can use the ColumnTransformer instead.\n",
      "  \"use the ColumnTransformer instead.\", DeprecationWarning)\n"
     ]
    }
   ],
   "source": [
    "# Don't need to onehotencode gender because its binary\n",
    "\n",
    "onehotencoder = OneHotEncoder(categorical_features = [1])\n",
    "X = onehotencoder.fit_transform(X).toarray()\n",
    "X = X[:, 1:]\n",
    "\n",
    "# Encoding the Dependent Variable\n",
    "labelencoder_y = LabelEncoder()\n",
    "y = labelencoder_y.fit_transform(y)"
   ]
  },
  {
   "cell_type": "code",
   "execution_count": 43,
   "metadata": {},
   "outputs": [],
   "source": [
    "# Splitting the dataset into the Training set and Test set\n",
    "from sklearn.model_selection import train_test_split\n",
    "X_train, X_test, y_train, y_test = train_test_split(X, y, test_size = 0.25, random_state = 0)"
   ]
  },
  {
   "cell_type": "code",
   "execution_count": 44,
   "metadata": {},
   "outputs": [],
   "source": [
    "# Feature Scaling\n",
    "# Very important for NN calculations\n",
    "from sklearn.preprocessing import StandardScaler\n",
    "sc = StandardScaler()\n",
    "X_train = sc.fit_transform(X_train)\n",
    "X_test = sc.transform(X_test)\n"
   ]
  },
  {
   "cell_type": "code",
   "execution_count": 45,
   "metadata": {},
   "outputs": [],
   "source": [
    "import keras\n",
    "from keras.models import Sequential\n",
    "from keras.layers import Dense"
   ]
  },
  {
   "cell_type": "code",
   "execution_count": 46,
   "metadata": {},
   "outputs": [
    {
     "data": {
      "text/plain": [
       "'\\nDense parameters:\\noutput_dim: number of nodes you want to add to the next HIDDEN layer\\nDetermining the number of nodes in the hidden layer is an art, but one tip\\ncould be to have the number of nodes in the hidden layer be equal to the average of the nodes in \\nthe input layer and output layer. You could also determine this number by doing some form of parameter tuning\\n\\ninit: Will randomly initizalize weights to 0, using the glorot_uniform function be default\\n\\nactivation: What activation function to use\\n\\ninput_dim: Number of input nodes in our INPUT layer, so we only need to specify this parameter ONCE\\n'"
      ]
     },
     "execution_count": 46,
     "metadata": {},
     "output_type": "execute_result"
    }
   ],
   "source": [
    "# Initialize the Classifier ANN\n",
    "classifier = Sequential()\n",
    "\n",
    "# Adding input layer AND first hidden layer\n",
    "# output_dim = (11 inputs nodes + 1 output node )/2 = 6\n",
    "# rectifier activation\n",
    "\n",
    "# classifier.add(Dense(output_dim = 6, init='uniform', activation='relu', input_dim=11))\n",
    "# Same as above, just updated for Keras 2 API\n",
    "classifier.add(Dense(activation=\"relu\", input_dim=11, units=6, kernel_initializer=\"uniform\"))\n",
    "\n",
    "'''\n",
    "Dense parameters:\n",
    "output_dim: number of nodes you want to add to the next HIDDEN layer\n",
    "Determining the number of nodes in the hidden layer is an art, but one tip\n",
    "could be to have the number of nodes in the hidden layer be equal to the average of the nodes in \n",
    "the input layer and output layer. You could also determine this number by doing some form of parameter tuning\n",
    "\n",
    "init: Will randomly initizalize weights to 0, using the glorot_uniform function be default\n",
    "\n",
    "activation: What activation function to use\n",
    "\n",
    "input_dim: Number of input nodes in our INPUT layer, so we only need to specify this parameter ONCE\n",
    "'''\n"
   ]
  },
  {
   "cell_type": "code",
   "execution_count": 47,
   "metadata": {},
   "outputs": [],
   "source": [
    "# Adding second hidden layer\n",
    "classifier.add(Dense(activation=\"relu\", units=6, kernel_initializer=\"uniform\"))\n",
    "\n",
    "# Adding output layer\n",
    "# Sigmoid activation will output possibility of the classification\n",
    "# We can use softmax activation function that is like sigmoid, but works for multiclass-classification\n",
    "classifier.add(Dense(activation=\"sigmoid\", units=1, kernel_initializer=\"uniform\"))"
   ]
  },
  {
   "cell_type": "code",
   "execution_count": 50,
   "metadata": {},
   "outputs": [
    {
     "data": {
      "text/plain": [
       "\"\\nCompile parameters:\\n\\noptimizer: algorithm to find the optimial set of weights - How we tune our weights - ie: Adam Gradient Descent Algo.\\n\\nloss: Loss function to determine the error between ypred and ytrue\\n\\nmetrics: list of metrics to be evaluated by the model and then improved upon, typically 'accuracy'\\n\\nepochs: number of training iterations, one full cycle of foward and back propagations\\n\""
      ]
     },
     "execution_count": 50,
     "metadata": {},
     "output_type": "execute_result"
    }
   ],
   "source": [
    "# Compiling the ANN\n",
    "# Compiling is the \"training\" or \"learning\" process for our ANN\n",
    "# Stochastic Gradient descent will utilze a logartimic loss function NOT MSE, this is based on the \n",
    "# sigmoid activation of our output layer\n",
    "# loss function for binary logarithmic: binary_crossentropy, if not binary, then: categorical_crossentropy\n",
    "classifier.compile(optimizer= 'adam', loss = 'binary_crossentropy', metrics=['accuracy'])\n",
    "'''\n",
    "Compile parameters:\n",
    "\n",
    "optimizer: algorithm to find the optimial set of weights - How we tune our weights - ie: Adam Gradient Descent Algo.\n",
    "\n",
    "loss: Loss function to determine the error between ypred and ytrue\n",
    "\n",
    "metrics: list of metrics to be evaluated by the model and then improved upon, typically 'accuracy'\n",
    "\n",
    "epochs: number of training iterations, one full cycle of foward and back propagations\n",
    "'''\n"
   ]
  },
  {
   "cell_type": "code",
   "execution_count": 51,
   "metadata": {},
   "outputs": [
    {
     "name": "stdout",
     "output_type": "stream",
     "text": [
      "Epoch 1/100\n",
      "7500/7500 [==============================] - 1s 159us/step - loss: 0.4921 - acc: 0.7957\n",
      "Epoch 2/100\n",
      "7500/7500 [==============================] - 1s 93us/step - loss: 0.4298 - acc: 0.7963\n",
      "Epoch 3/100\n",
      "7500/7500 [==============================] - 1s 92us/step - loss: 0.4255 - acc: 0.7963\n",
      "Epoch 4/100\n",
      "7500/7500 [==============================] - 1s 116us/step - loss: 0.4209 - acc: 0.8040 0s - loss: 0.4264 - acc\n",
      "Epoch 5/100\n",
      "7500/7500 [==============================] - 1s 94us/step - loss: 0.4180 - acc: 0.8224\n",
      "Epoch 6/100\n",
      "7500/7500 [==============================] - 1s 95us/step - loss: 0.4159 - acc: 0.8257\n",
      "Epoch 7/100\n",
      "7500/7500 [==============================] - 1s 105us/step - loss: 0.4136 - acc: 0.8300\n",
      "Epoch 8/100\n",
      "7500/7500 [==============================] - 1s 109us/step - loss: 0.4131 - acc: 0.8316\n",
      "Epoch 9/100\n",
      "7500/7500 [==============================] - 1s 102us/step - loss: 0.4116 - acc: 0.8315\n",
      "Epoch 10/100\n",
      "7500/7500 [==============================] - 1s 108us/step - loss: 0.4107 - acc: 0.8323\n",
      "Epoch 11/100\n",
      "7500/7500 [==============================] - 1s 107us/step - loss: 0.4097 - acc: 0.8321\n",
      "Epoch 12/100\n",
      "7500/7500 [==============================] - 1s 102us/step - loss: 0.4089 - acc: 0.8335\n",
      "Epoch 13/100\n",
      "7500/7500 [==============================] - 1s 103us/step - loss: 0.4078 - acc: 0.8344 0s - loss: 0.4193 - acc: \n",
      "Epoch 14/100\n",
      "7500/7500 [==============================] - 1s 100us/step - loss: 0.4079 - acc: 0.8351 0s - loss: 0.4046 - acc:  - ETA: 0s - loss: 0.4083 - acc: 0.835\n",
      "Epoch 15/100\n",
      "7500/7500 [==============================] - 1s 117us/step - loss: 0.4077 - acc: 0.8340\n",
      "Epoch 16/100\n",
      "7500/7500 [==============================] - 1s 110us/step - loss: 0.4068 - acc: 0.8337\n",
      "Epoch 17/100\n",
      "7500/7500 [==============================] - 1s 104us/step - loss: 0.4065 - acc: 0.8343\n",
      "Epoch 18/100\n",
      "7500/7500 [==============================] - 1s 108us/step - loss: 0.4059 - acc: 0.8349 0s - loss: 0.4089 - \n",
      "Epoch 19/100\n",
      "7500/7500 [==============================] - 1s 102us/step - loss: 0.4057 - acc: 0.8351\n",
      "Epoch 20/100\n",
      "7500/7500 [==============================] - 1s 110us/step - loss: 0.4051 - acc: 0.8336 0s - loss: 0.4013 - acc: 0\n",
      "Epoch 21/100\n",
      "7500/7500 [==============================] - 1s 110us/step - loss: 0.4048 - acc: 0.8341\n",
      "Epoch 22/100\n",
      "7500/7500 [==============================] - 1s 121us/step - loss: 0.4044 - acc: 0.8363\n",
      "Epoch 23/100\n",
      "7500/7500 [==============================] - 1s 107us/step - loss: 0.4043 - acc: 0.8343\n",
      "Epoch 24/100\n",
      "7500/7500 [==============================] - 1s 114us/step - loss: 0.4040 - acc: 0.8341\n",
      "Epoch 25/100\n",
      "7500/7500 [==============================] - 1s 115us/step - loss: 0.4042 - acc: 0.8345 0s - loss: 0.4109 - \n",
      "Epoch 26/100\n",
      "7500/7500 [==============================] - 1s 107us/step - loss: 0.4036 - acc: 0.8353\n",
      "Epoch 27/100\n",
      "7500/7500 [==============================] - 1s 117us/step - loss: 0.4037 - acc: 0.8359\n",
      "Epoch 28/100\n",
      "7500/7500 [==============================] - 1s 107us/step - loss: 0.4034 - acc: 0.8340\n",
      "Epoch 29/100\n",
      "7500/7500 [==============================] - 1s 119us/step - loss: 0.4031 - acc: 0.8353\n",
      "Epoch 30/100\n",
      "7500/7500 [==============================] - 1s 104us/step - loss: 0.4029 - acc: 0.8336\n",
      "Epoch 31/100\n",
      "7500/7500 [==============================] - 1s 105us/step - loss: 0.4032 - acc: 0.8335\n",
      "Epoch 32/100\n",
      "7500/7500 [==============================] - 1s 119us/step - loss: 0.4031 - acc: 0.8343 0s - loss: 0.4035 - acc\n",
      "Epoch 33/100\n",
      "7500/7500 [==============================] - 1s 119us/step - loss: 0.4031 - acc: 0.8349\n",
      "Epoch 34/100\n",
      "7500/7500 [==============================] - 1s 120us/step - loss: 0.4028 - acc: 0.8348\n",
      "Epoch 35/100\n",
      "7500/7500 [==============================] - 1s 115us/step - loss: 0.4030 - acc: 0.8336\n",
      "Epoch 36/100\n",
      "7500/7500 [==============================] - 1s 107us/step - loss: 0.4027 - acc: 0.8340\n",
      "Epoch 37/100\n",
      "7500/7500 [==============================] - 1s 117us/step - loss: 0.4023 - acc: 0.8325 0s - loss: 0.4034 - acc: 0.83\n",
      "Epoch 38/100\n",
      "7500/7500 [==============================] - 1s 125us/step - loss: 0.4025 - acc: 0.8335\n",
      "Epoch 39/100\n",
      "7500/7500 [==============================] - 1s 124us/step - loss: 0.4025 - acc: 0.8344\n",
      "Epoch 40/100\n",
      "7500/7500 [==============================] - 1s 106us/step - loss: 0.4021 - acc: 0.8349\n",
      "Epoch 41/100\n",
      "7500/7500 [==============================] - 1s 121us/step - loss: 0.4025 - acc: 0.8336\n",
      "Epoch 42/100\n",
      "7500/7500 [==============================] - 1s 117us/step - loss: 0.4023 - acc: 0.8360\n",
      "Epoch 43/100\n",
      "7500/7500 [==============================] - 1s 118us/step - loss: 0.4021 - acc: 0.8347\n",
      "Epoch 44/100\n",
      "7500/7500 [==============================] - 1s 106us/step - loss: 0.4019 - acc: 0.8344\n",
      "Epoch 45/100\n",
      "7500/7500 [==============================] - 1s 118us/step - loss: 0.4019 - acc: 0.8355\n",
      "Epoch 46/100\n",
      "7500/7500 [==============================] - 1s 124us/step - loss: 0.4018 - acc: 0.8359\n",
      "Epoch 47/100\n",
      "7500/7500 [==============================] - 1s 105us/step - loss: 0.4017 - acc: 0.8336\n",
      "Epoch 48/100\n",
      "7500/7500 [==============================] - 1s 108us/step - loss: 0.4015 - acc: 0.8339\n",
      "Epoch 49/100\n",
      "7500/7500 [==============================] - 1s 133us/step - loss: 0.4016 - acc: 0.8348\n",
      "Epoch 50/100\n",
      "7500/7500 [==============================] - 1s 186us/step - loss: 0.4015 - acc: 0.8353\n",
      "Epoch 51/100\n",
      "7500/7500 [==============================] - 1s 167us/step - loss: 0.4010 - acc: 0.8364\n",
      "Epoch 52/100\n",
      "7500/7500 [==============================] - 1s 197us/step - loss: 0.4019 - acc: 0.8351 0s - loss: 0.4018 - acc: 0.83\n",
      "Epoch 53/100\n",
      "7500/7500 [==============================] - 1s 151us/step - loss: 0.4010 - acc: 0.8352\n",
      "Epoch 54/100\n",
      "7500/7500 [==============================] - 1s 154us/step - loss: 0.4014 - acc: 0.8332\n",
      "Epoch 55/100\n",
      "7500/7500 [==============================] - 1s 166us/step - loss: 0.4013 - acc: 0.8356\n",
      "Epoch 56/100\n",
      "7500/7500 [==============================] - 1s 150us/step - loss: 0.4013 - acc: 0.8345\n",
      "Epoch 57/100\n",
      "7500/7500 [==============================] - 1s 170us/step - loss: 0.4008 - acc: 0.8355\n",
      "Epoch 58/100\n",
      "7500/7500 [==============================] - 1s 174us/step - loss: 0.4012 - acc: 0.8352\n",
      "Epoch 59/100\n",
      "7500/7500 [==============================] - 1s 173us/step - loss: 0.4006 - acc: 0.8360 1s - loss: 0\n",
      "Epoch 60/100\n",
      "7500/7500 [==============================] - 1s 183us/step - loss: 0.4007 - acc: 0.8329\n",
      "Epoch 61/100\n",
      "7500/7500 [==============================] - 1s 173us/step - loss: 0.4010 - acc: 0.8345\n",
      "Epoch 62/100\n",
      "7500/7500 [==============================] - 1s 179us/step - loss: 0.4005 - acc: 0.8353\n",
      "Epoch 63/100\n",
      "7500/7500 [==============================] - 1s 161us/step - loss: 0.4007 - acc: 0.8367\n",
      "Epoch 64/100\n",
      "7500/7500 [==============================] - 1s 167us/step - loss: 0.4008 - acc: 0.8344 0s - loss: 0.3970 - acc:\n",
      "Epoch 65/100\n",
      "7500/7500 [==============================] - 1s 162us/step - loss: 0.4002 - acc: 0.8343\n",
      "Epoch 66/100\n",
      "7500/7500 [==============================] - 1s 160us/step - loss: 0.4001 - acc: 0.8353\n",
      "Epoch 67/100\n",
      "7500/7500 [==============================] - 1s 161us/step - loss: 0.4000 - acc: 0.8352\n",
      "Epoch 68/100\n",
      "7500/7500 [==============================] - 1s 179us/step - loss: 0.4005 - acc: 0.8336 0s - loss: 0.3961 - acc: 0.\n",
      "Epoch 69/100\n",
      "7500/7500 [==============================] - 1s 177us/step - loss: 0.4000 - acc: 0.8348\n",
      "Epoch 70/100\n",
      "7500/7500 [==============================] - 1s 176us/step - loss: 0.4007 - acc: 0.8333\n",
      "Epoch 71/100\n",
      "7500/7500 [==============================] - 1s 163us/step - loss: 0.4003 - acc: 0.8359\n",
      "Epoch 72/100\n",
      "7500/7500 [==============================] - 1s 154us/step - loss: 0.4007 - acc: 0.8348\n",
      "Epoch 73/100\n",
      "7500/7500 [==============================] - 1s 156us/step - loss: 0.4001 - acc: 0.8357\n",
      "Epoch 74/100\n",
      "7500/7500 [==============================] - 1s 150us/step - loss: 0.4004 - acc: 0.8347\n",
      "Epoch 75/100\n",
      "7500/7500 [==============================] - 1s 168us/step - loss: 0.4004 - acc: 0.8360\n",
      "Epoch 76/100\n",
      "7500/7500 [==============================] - 1s 161us/step - loss: 0.4005 - acc: 0.8359\n",
      "Epoch 77/100\n",
      "7500/7500 [==============================] - 1s 159us/step - loss: 0.4000 - acc: 0.8347 0s - loss: 0.3981 -\n",
      "Epoch 78/100\n"
     ]
    },
    {
     "name": "stdout",
     "output_type": "stream",
     "text": [
      "7500/7500 [==============================] - 1s 152us/step - loss: 0.4001 - acc: 0.8347\n",
      "Epoch 79/100\n",
      "7500/7500 [==============================] - 1s 132us/step - loss: 0.4000 - acc: 0.8368\n",
      "Epoch 80/100\n",
      "7500/7500 [==============================] - 1s 142us/step - loss: 0.4007 - acc: 0.8351 0s - loss: 0.4003 - acc: 0.8 - ETA: 0s - loss: 0.3959 - acc: 0.836 - ETA: 0s - loss: 0.4000 - acc: 0.835\n",
      "Epoch 81/100\n",
      "7500/7500 [==============================] - 1s 142us/step - loss: 0.4004 - acc: 0.8351\n",
      "Epoch 82/100\n",
      "7500/7500 [==============================] - 1s 146us/step - loss: 0.4001 - acc: 0.8359\n",
      "Epoch 83/100\n",
      "7500/7500 [==============================] - 1s 137us/step - loss: 0.3998 - acc: 0.8351 0s - loss: 0.3898 -\n",
      "Epoch 84/100\n",
      "7500/7500 [==============================] - 1s 143us/step - loss: 0.3998 - acc: 0.8357\n",
      "Epoch 85/100\n",
      "7500/7500 [==============================] - 1s 159us/step - loss: 0.4002 - acc: 0.8352\n",
      "Epoch 86/100\n",
      "7500/7500 [==============================] - 1s 149us/step - loss: 0.3999 - acc: 0.8339\n",
      "Epoch 87/100\n",
      "7500/7500 [==============================] - 1s 138us/step - loss: 0.4001 - acc: 0.8355\n",
      "Epoch 88/100\n",
      "7500/7500 [==============================] - 1s 159us/step - loss: 0.3999 - acc: 0.8361 1s - loss: 0.\n",
      "Epoch 89/100\n",
      "7500/7500 [==============================] - 1s 149us/step - loss: 0.3991 - acc: 0.8377\n",
      "Epoch 90/100\n",
      "7500/7500 [==============================] - 1s 139us/step - loss: 0.4000 - acc: 0.8353\n",
      "Epoch 91/100\n",
      "7500/7500 [==============================] - 1s 141us/step - loss: 0.3999 - acc: 0.8356\n",
      "Epoch 92/100\n",
      "7500/7500 [==============================] - 1s 138us/step - loss: 0.4001 - acc: 0.8344\n",
      "Epoch 93/100\n",
      "7500/7500 [==============================] - 1s 148us/step - loss: 0.3999 - acc: 0.8353\n",
      "Epoch 94/100\n",
      "7500/7500 [==============================] - 1s 137us/step - loss: 0.3995 - acc: 0.8353\n",
      "Epoch 95/100\n",
      "7500/7500 [==============================] - 1s 139us/step - loss: 0.3994 - acc: 0.8340\n",
      "Epoch 96/100\n",
      "7500/7500 [==============================] - 1s 154us/step - loss: 0.3998 - acc: 0.8353\n",
      "Epoch 97/100\n",
      "7500/7500 [==============================] - 1s 153us/step - loss: 0.3994 - acc: 0.8355\n",
      "Epoch 98/100\n",
      "7500/7500 [==============================] - 1s 135us/step - loss: 0.4000 - acc: 0.8336\n",
      "Epoch 99/100\n",
      "7500/7500 [==============================] - 1s 116us/step - loss: 0.3997 - acc: 0.8341\n",
      "Epoch 100/100\n",
      "7500/7500 [==============================] - 1s 131us/step - loss: 0.3997 - acc: 0.8360\n"
     ]
    },
    {
     "data": {
      "text/plain": [
       "<keras.callbacks.History at 0x119aba358>"
      ]
     },
     "execution_count": 51,
     "metadata": {},
     "output_type": "execute_result"
    }
   ],
   "source": [
    "# Fitting the ANN to the training set\n",
    "classifier.fit(X_train, y_train, batch_size = 10, epochs=100)"
   ]
  },
  {
   "cell_type": "code",
   "execution_count": 52,
   "metadata": {},
   "outputs": [],
   "source": [
    "# Fitting classifier to the Training set\n",
    "# Create your classifier here\n",
    "\n",
    "# Predicting the Test set results\n",
    "y_pred = classifier.predict(X_test) # Returns ONLY probabilities of people leaving the bank\n",
    "\n",
    "# Convert probabilities to True/False using a threshold value in order to evaluate the model. Threshold value will\n",
    "# be dependent on the sensitivity of the results\n",
    "\n",
    "y_pred = (y_pred > 0.5) # Compares each value to 0.5 threshold and replaces with bool\n",
    "\n",
    "\n",
    "# Making the Confusion Matrix\n",
    "from sklearn.metrics import confusion_matrix\n",
    "cm = confusion_matrix(y_test, y_pred)"
   ]
  },
  {
   "cell_type": "code",
   "execution_count": 62,
   "metadata": {},
   "outputs": [
    {
     "data": {
      "text/plain": [
       "array([[1923,   68],\n",
       "       [ 326,  183]])"
      ]
     },
     "execution_count": 62,
     "metadata": {},
     "output_type": "execute_result"
    }
   ],
   "source": [
    "cm"
   ]
  },
  {
   "cell_type": "code",
   "execution_count": 57,
   "metadata": {},
   "outputs": [
    {
     "data": {
      "text/plain": [
       "2106"
      ]
     },
     "execution_count": 57,
     "metadata": {},
     "output_type": "execute_result"
    }
   ],
   "source": [
    "1923 + 183"
   ]
  },
  {
   "cell_type": "code",
   "execution_count": 58,
   "metadata": {},
   "outputs": [
    {
     "data": {
      "text/plain": [
       "2500"
      ]
     },
     "execution_count": 58,
     "metadata": {},
     "output_type": "execute_result"
    }
   ],
   "source": [
    "1923 + 183 + 68 + 326"
   ]
  },
  {
   "cell_type": "code",
   "execution_count": 60,
   "metadata": {},
   "outputs": [
    {
     "data": {
      "text/plain": [
       "0.8424"
      ]
     },
     "execution_count": 60,
     "metadata": {},
     "output_type": "execute_result"
    }
   ],
   "source": [
    "2106/2500 # Accuracy score"
   ]
  },
  {
   "cell_type": "markdown",
   "metadata": {},
   "source": [
    "### Homework problem"
   ]
  },
  {
   "cell_type": "code",
   "execution_count": null,
   "metadata": {},
   "outputs": [],
   "source": [
    "current_client = []"
   ]
  }
 ],
 "metadata": {
  "kernelspec": {
   "display_name": "Python 3",
   "language": "python",
   "name": "python3"
  },
  "language_info": {
   "codemirror_mode": {
    "name": "ipython",
    "version": 3
   },
   "file_extension": ".py",
   "mimetype": "text/x-python",
   "name": "python",
   "nbconvert_exporter": "python",
   "pygments_lexer": "ipython3",
   "version": "3.7.1"
  }
 },
 "nbformat": 4,
 "nbformat_minor": 2
}
