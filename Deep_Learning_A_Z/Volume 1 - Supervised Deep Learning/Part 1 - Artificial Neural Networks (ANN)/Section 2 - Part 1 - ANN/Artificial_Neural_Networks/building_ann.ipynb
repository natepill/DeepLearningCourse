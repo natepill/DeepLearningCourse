{
 "cells": [
  {
   "cell_type": "code",
   "execution_count": 1,
   "metadata": {},
   "outputs": [
    {
     "data": {
      "text/html": [
       "<div>\n",
       "<style scoped>\n",
       "    .dataframe tbody tr th:only-of-type {\n",
       "        vertical-align: middle;\n",
       "    }\n",
       "\n",
       "    .dataframe tbody tr th {\n",
       "        vertical-align: top;\n",
       "    }\n",
       "\n",
       "    .dataframe thead th {\n",
       "        text-align: right;\n",
       "    }\n",
       "</style>\n",
       "<table border=\"1\" class=\"dataframe\">\n",
       "  <thead>\n",
       "    <tr style=\"text-align: right;\">\n",
       "      <th></th>\n",
       "      <th>RowNumber</th>\n",
       "      <th>CustomerId</th>\n",
       "      <th>Surname</th>\n",
       "      <th>CreditScore</th>\n",
       "      <th>Geography</th>\n",
       "      <th>Gender</th>\n",
       "      <th>Age</th>\n",
       "      <th>Tenure</th>\n",
       "      <th>Balance</th>\n",
       "      <th>NumOfProducts</th>\n",
       "      <th>HasCrCard</th>\n",
       "      <th>IsActiveMember</th>\n",
       "      <th>EstimatedSalary</th>\n",
       "      <th>Exited</th>\n",
       "    </tr>\n",
       "  </thead>\n",
       "  <tbody>\n",
       "    <tr>\n",
       "      <th>0</th>\n",
       "      <td>1</td>\n",
       "      <td>15634602</td>\n",
       "      <td>Hargrave</td>\n",
       "      <td>619</td>\n",
       "      <td>France</td>\n",
       "      <td>Female</td>\n",
       "      <td>42</td>\n",
       "      <td>2</td>\n",
       "      <td>0.00</td>\n",
       "      <td>1</td>\n",
       "      <td>1</td>\n",
       "      <td>1</td>\n",
       "      <td>101348.88</td>\n",
       "      <td>1</td>\n",
       "    </tr>\n",
       "    <tr>\n",
       "      <th>1</th>\n",
       "      <td>2</td>\n",
       "      <td>15647311</td>\n",
       "      <td>Hill</td>\n",
       "      <td>608</td>\n",
       "      <td>Spain</td>\n",
       "      <td>Female</td>\n",
       "      <td>41</td>\n",
       "      <td>1</td>\n",
       "      <td>83807.86</td>\n",
       "      <td>1</td>\n",
       "      <td>0</td>\n",
       "      <td>1</td>\n",
       "      <td>112542.58</td>\n",
       "      <td>0</td>\n",
       "    </tr>\n",
       "    <tr>\n",
       "      <th>2</th>\n",
       "      <td>3</td>\n",
       "      <td>15619304</td>\n",
       "      <td>Onio</td>\n",
       "      <td>502</td>\n",
       "      <td>France</td>\n",
       "      <td>Female</td>\n",
       "      <td>42</td>\n",
       "      <td>8</td>\n",
       "      <td>159660.80</td>\n",
       "      <td>3</td>\n",
       "      <td>1</td>\n",
       "      <td>0</td>\n",
       "      <td>113931.57</td>\n",
       "      <td>1</td>\n",
       "    </tr>\n",
       "    <tr>\n",
       "      <th>3</th>\n",
       "      <td>4</td>\n",
       "      <td>15701354</td>\n",
       "      <td>Boni</td>\n",
       "      <td>699</td>\n",
       "      <td>France</td>\n",
       "      <td>Female</td>\n",
       "      <td>39</td>\n",
       "      <td>1</td>\n",
       "      <td>0.00</td>\n",
       "      <td>2</td>\n",
       "      <td>0</td>\n",
       "      <td>0</td>\n",
       "      <td>93826.63</td>\n",
       "      <td>0</td>\n",
       "    </tr>\n",
       "    <tr>\n",
       "      <th>4</th>\n",
       "      <td>5</td>\n",
       "      <td>15737888</td>\n",
       "      <td>Mitchell</td>\n",
       "      <td>850</td>\n",
       "      <td>Spain</td>\n",
       "      <td>Female</td>\n",
       "      <td>43</td>\n",
       "      <td>2</td>\n",
       "      <td>125510.82</td>\n",
       "      <td>1</td>\n",
       "      <td>1</td>\n",
       "      <td>1</td>\n",
       "      <td>79084.10</td>\n",
       "      <td>0</td>\n",
       "    </tr>\n",
       "  </tbody>\n",
       "</table>\n",
       "</div>"
      ],
      "text/plain": [
       "   RowNumber  CustomerId   Surname  CreditScore Geography  Gender  Age  \\\n",
       "0          1    15634602  Hargrave          619    France  Female   42   \n",
       "1          2    15647311      Hill          608     Spain  Female   41   \n",
       "2          3    15619304      Onio          502    France  Female   42   \n",
       "3          4    15701354      Boni          699    France  Female   39   \n",
       "4          5    15737888  Mitchell          850     Spain  Female   43   \n",
       "\n",
       "   Tenure    Balance  NumOfProducts  HasCrCard  IsActiveMember  \\\n",
       "0       2       0.00              1          1               1   \n",
       "1       1   83807.86              1          0               1   \n",
       "2       8  159660.80              3          1               0   \n",
       "3       1       0.00              2          0               0   \n",
       "4       2  125510.82              1          1               1   \n",
       "\n",
       "   EstimatedSalary  Exited  \n",
       "0        101348.88       1  \n",
       "1        112542.58       0  \n",
       "2        113931.57       1  \n",
       "3         93826.63       0  \n",
       "4         79084.10       0  "
      ]
     },
     "execution_count": 1,
     "metadata": {},
     "output_type": "execute_result"
    }
   ],
   "source": [
    "# Classification template\n",
    "\n",
    "# Importing the libraries\n",
    "import numpy as np\n",
    "import matplotlib.pyplot as plt\n",
    "import pandas as pd\n",
    "\n",
    "# Importing the dataset\n",
    "dataset = pd.read_csv('Churn_Modelling.csv')\n",
    "X = dataset.iloc[:, 3:13].values\n",
    "y = dataset.iloc[:, 13].values\n",
    "\n",
    "\n",
    "dataset.head()"
   ]
  },
  {
   "cell_type": "code",
   "execution_count": 2,
   "metadata": {},
   "outputs": [],
   "source": [
    "# Encoding categorical data\n",
    "# Encoding the Independent Variable\n",
    "from sklearn.preprocessing import LabelEncoder, OneHotEncoder\n",
    "labelencoder_X_1 = LabelEncoder() # Encode countries\n",
    "X[:, 1] = labelencoder_X_1.fit_transform(X[:, 1]) # Will encode the 3 country strings to 0,1,2\n",
    "\n",
    "labelencoder_X_2 = LabelEncoder() # Encode gender\n",
    "X[:, 2] = labelencoder_X_2.fit_transform(X[:, 2]) # Will encode country gender to 0,1\n"
   ]
  },
  {
   "cell_type": "code",
   "execution_count": 3,
   "metadata": {},
   "outputs": [
    {
     "name": "stderr",
     "output_type": "stream",
     "text": [
      "/Users/natepill/anaconda3/lib/python3.7/site-packages/sklearn/preprocessing/_encoders.py:368: FutureWarning: The handling of integer data will change in version 0.22. Currently, the categories are determined based on the range [0, max(values)], while in the future they will be determined based on the unique values.\n",
      "If you want the future behaviour and silence this warning, you can specify \"categories='auto'\".\n",
      "In case you used a LabelEncoder before this OneHotEncoder to convert the categories to integers, then you can now use the OneHotEncoder directly.\n",
      "  warnings.warn(msg, FutureWarning)\n",
      "/Users/natepill/anaconda3/lib/python3.7/site-packages/sklearn/preprocessing/_encoders.py:390: DeprecationWarning: The 'categorical_features' keyword is deprecated in version 0.20 and will be removed in 0.22. You can use the ColumnTransformer instead.\n",
      "  \"use the ColumnTransformer instead.\", DeprecationWarning)\n"
     ]
    }
   ],
   "source": [
    "# Don't need to onehotencode gender because its binary\n",
    "\n",
    "onehotencoder = OneHotEncoder(categorical_features = [1])\n",
    "X = onehotencoder.fit_transform(X).toarray()\n",
    "X = X[:, 1:]\n",
    "\n",
    "# Encoding the Dependent Variable\n",
    "labelencoder_y = LabelEncoder()\n",
    "y = labelencoder_y.fit_transform(y)"
   ]
  },
  {
   "cell_type": "code",
   "execution_count": 4,
   "metadata": {},
   "outputs": [
    {
     "data": {
      "text/plain": [
       "array([1, 0, 1, ..., 1, 1, 0])"
      ]
     },
     "execution_count": 4,
     "metadata": {},
     "output_type": "execute_result"
    }
   ],
   "source": [
    "y"
   ]
  },
  {
   "cell_type": "code",
   "execution_count": 5,
   "metadata": {},
   "outputs": [],
   "source": [
    "# Splitting the dataset into the Training set and Test set\n",
    "from sklearn.model_selection import train_test_split\n",
    "X_train, X_test, y_train, y_test = train_test_split(X, y, test_size = 0.25, random_state = 0)"
   ]
  },
  {
   "cell_type": "code",
   "execution_count": 6,
   "metadata": {},
   "outputs": [],
   "source": [
    "# Feature Scaling\n",
    "# Very important for NN calculations\n",
    "from sklearn.preprocessing import StandardScaler\n",
    "sc = StandardScaler()\n",
    "X_train = sc.fit_transform(X_train)\n",
    "X_test = sc.transform(X_test)\n"
   ]
  },
  {
   "cell_type": "code",
   "execution_count": null,
   "metadata": {},
   "outputs": [],
   "source": []
  },
  {
   "cell_type": "code",
   "execution_count": 7,
   "metadata": {},
   "outputs": [
    {
     "name": "stderr",
     "output_type": "stream",
     "text": [
      "Using TensorFlow backend.\n",
      "/Users/natepill/anaconda3/lib/python3.7/importlib/_bootstrap.py:219: RuntimeWarning: compiletime version 3.6 of module 'tensorflow.python.framework.fast_tensor_util' does not match runtime version 3.7\n",
      "  return f(*args, **kwds)\n"
     ]
    }
   ],
   "source": [
    "import keras\n",
    "from keras.models import Sequential\n",
    "from keras.layers import Dense\n",
    "from keras.layers import Dropout"
   ]
  },
  {
   "cell_type": "code",
   "execution_count": 8,
   "metadata": {},
   "outputs": [
    {
     "data": {
      "text/plain": [
       "'\\nDense parameters:\\noutput_dim: number of nodes you want to add to the next HIDDEN layer\\nDetermining the number of nodes in the hidden layer is an art, but one tip\\ncould be to have the number of nodes in the hidden layer be equal to the average of the nodes in \\nthe input layer and output layer. You could also determine this number by doing some form of parameter tuning\\n\\ninit: Will randomly initizalize weights to 0, using the glorot_uniform function be default\\n\\nactivation: What activation function to use\\n\\ninput_dim: Number of input nodes in our INPUT layer, so we only need to specify this parameter ONCE\\n'"
      ]
     },
     "execution_count": 8,
     "metadata": {},
     "output_type": "execute_result"
    }
   ],
   "source": [
    "# Initialize the Classifier ANN\n",
    "classifier = Sequential()\n",
    "\n",
    "# Adding input layer AND first hidden layer\n",
    "# output_dim = (11 inputs nodes + 1 output node )/2 = 6\n",
    "# rectifier activation\n",
    "\n",
    "classifier.add(Dense(activation=\"relu\", input_dim=11, units=6, kernel_initializer=\"uniform\"))\n",
    "# Adding Dropout \n",
    "classifier.add(Dropout(p = 0.1))\n",
    "\n",
    "\n",
    "'''\n",
    "Dense parameters:\n",
    "output_dim: number of nodes you want to add to the next HIDDEN layer\n",
    "Determining the number of nodes in the hidden layer is an art, but one tip\n",
    "could be to have the number of nodes in the hidden layer be equal to the average of the nodes in \n",
    "the input layer and output layer. You could also determine this number by doing some form of parameter tuning\n",
    "\n",
    "init: Will randomly initizalize weights to 0, using the glorot_uniform function be default\n",
    "\n",
    "activation: What activation function to use\n",
    "\n",
    "input_dim: Number of input nodes in our INPUT layer, so we only need to specify this parameter ONCE\n",
    "'''\n"
   ]
  },
  {
   "cell_type": "code",
   "execution_count": 9,
   "metadata": {},
   "outputs": [],
   "source": [
    "# Adding second hidden layer\n",
    "\n",
    "classifier.add(Dense(activation=\"relu\", units=6, kernel_initializer=\"uniform\"))\n",
    "classifier.add(Dropout(p = 0.1))\n",
    "\n",
    "# Adding output layer\n",
    "# Sigmoid activation will output possibility of the classification\n",
    "# We can use softmax activation function that is like sigmoid, but works for multiclass-classification\n",
    "classifier.add(Dense(activation=\"sigmoid\", units=1, kernel_initializer=\"uniform\"))"
   ]
  },
  {
   "cell_type": "code",
   "execution_count": 10,
   "metadata": {},
   "outputs": [
    {
     "data": {
      "text/plain": [
       "\"\\nCompile parameters:\\n\\noptimizer: algorithm to find the optimial set of weights - How we tune our weights - ie: Adam Gradient Descent Algo.\\n\\nloss: Loss function to determine the error between ypred and ytrue\\n\\nmetrics: list of metrics to be evaluated by the model and then improved upon, typically 'accuracy'\\n\\nepochs: number of training iterations, one full cycle of foward and back propagations\\n\""
      ]
     },
     "execution_count": 10,
     "metadata": {},
     "output_type": "execute_result"
    }
   ],
   "source": [
    "# Compiling the ANN\n",
    "# Compiling is the \"training\" or \"learning\" process for our ANN\n",
    "# Stochastic Gradient descent will utilze a logartimic loss function NOT MSE, this is based on the \n",
    "# sigmoid activation of our output layer\n",
    "# loss function for binary logarithmic: binary_crossentropy, if not binary, then: categorical_crossentropy\n",
    "\n",
    "classifier.compile(optimizer= 'adam', loss = 'binary_crossentropy', metrics=['accuracy'])\n",
    "'''\n",
    "Compile parameters:\n",
    "\n",
    "optimizer: algorithm to find the optimial set of weights - How we tune our weights - ie: Adam Gradient Descent Algo.\n",
    "\n",
    "loss: Loss function to determine the error between ypred and ytrue\n",
    "\n",
    "metrics: list of metrics to be evaluated by the model and then improved upon, typically 'accuracy'\n",
    "\n",
    "epochs: number of training iterations, one full cycle of foward and back propagations\n",
    "'''\n"
   ]
  },
  {
   "cell_type": "code",
   "execution_count": 11,
   "metadata": {},
   "outputs": [
    {
     "name": "stdout",
     "output_type": "stream",
     "text": [
      "Epoch 1/100\n",
      "7500/7500 [==============================] - 2s 243us/step - loss: 0.5130 - acc: 0.7949\n",
      "Epoch 2/100\n",
      "7500/7500 [==============================] - 1s 163us/step - loss: 0.4070 - acc: 0.8235\n",
      "Epoch 3/100\n",
      "7500/7500 [==============================] - 2s 210us/step - loss: 0.3725 - acc: 0.8492\n",
      "Epoch 4/100\n",
      "7500/7500 [==============================] - 1s 167us/step - loss: 0.3549 - acc: 0.8576 0s - loss: 0.3549 - acc: 0.\n",
      "Epoch 5/100\n",
      "7500/7500 [==============================] - 1s 167us/step - loss: 0.3488 - acc: 0.8581\n",
      "Epoch 6/100\n",
      "7500/7500 [==============================] - 1s 144us/step - loss: 0.3463 - acc: 0.8575\n",
      "Epoch 7/100\n",
      "7500/7500 [==============================] - 1s 164us/step - loss: 0.3450 - acc: 0.8601 0s - loss: 0.3432 - acc: 0.86\n",
      "Epoch 8/100\n",
      "7500/7500 [==============================] - 1s 168us/step - loss: 0.3437 - acc: 0.8601\n",
      "Epoch 9/100\n",
      "7500/7500 [==============================] - 1s 176us/step - loss: 0.3428 - acc: 0.8604 0s - loss: \n",
      "Epoch 10/100\n",
      "7500/7500 [==============================] - 1s 169us/step - loss: 0.3420 - acc: 0.8600\n",
      "Epoch 11/100\n",
      "7500/7500 [==============================] - 1s 142us/step - loss: 0.3413 - acc: 0.8596\n",
      "Epoch 12/100\n",
      "7500/7500 [==============================] - 1s 163us/step - loss: 0.3411 - acc: 0.8595\n",
      "Epoch 13/100\n",
      "7500/7500 [==============================] - 1s 173us/step - loss: 0.3401 - acc: 0.8604\n",
      "Epoch 14/100\n",
      "7500/7500 [==============================] - 1s 147us/step - loss: 0.3398 - acc: 0.8609\n",
      "Epoch 15/100\n",
      "7500/7500 [==============================] - 1s 159us/step - loss: 0.3399 - acc: 0.8609\n",
      "Epoch 16/100\n",
      "7500/7500 [==============================] - 1s 124us/step - loss: 0.3391 - acc: 0.8601\n",
      "Epoch 17/100\n",
      "7500/7500 [==============================] - 1s 126us/step - loss: 0.3391 - acc: 0.8603 0s - loss: 0.3379 - ac\n",
      "Epoch 18/100\n",
      "7500/7500 [==============================] - 1s 112us/step - loss: 0.3378 - acc: 0.8599\n",
      "Epoch 19/100\n",
      "7500/7500 [==============================] - 1s 112us/step - loss: 0.3382 - acc: 0.8621\n",
      "Epoch 20/100\n",
      "7500/7500 [==============================] - 1s 114us/step - loss: 0.3377 - acc: 0.8609 0s - loss: 0.3339 - acc: \n",
      "Epoch 21/100\n",
      "7500/7500 [==============================] - 1s 110us/step - loss: 0.3376 - acc: 0.8616\n",
      "Epoch 22/100\n",
      "7500/7500 [==============================] - 1s 129us/step - loss: 0.3371 - acc: 0.8607\n",
      "Epoch 23/100\n",
      "7500/7500 [==============================] - 1s 177us/step - loss: 0.3367 - acc: 0.8611\n",
      "Epoch 24/100\n",
      "7500/7500 [==============================] - 1s 127us/step - loss: 0.3365 - acc: 0.8611 0s - loss: 0.3303 - acc: \n",
      "Epoch 25/100\n",
      "7500/7500 [==============================] - 1s 137us/step - loss: 0.3359 - acc: 0.8620\n",
      "Epoch 26/100\n",
      "7500/7500 [==============================] - 1s 190us/step - loss: 0.3361 - acc: 0.8625\n",
      "Epoch 27/100\n",
      "7500/7500 [==============================] - 1s 170us/step - loss: 0.3357 - acc: 0.8627\n",
      "Epoch 28/100\n",
      "7500/7500 [==============================] - 1s 127us/step - loss: 0.3357 - acc: 0.8615\n",
      "Epoch 29/100\n",
      "7500/7500 [==============================] - 1s 125us/step - loss: 0.3353 - acc: 0.8624\n",
      "Epoch 30/100\n",
      "7500/7500 [==============================] - 1s 136us/step - loss: 0.3345 - acc: 0.8625\n",
      "Epoch 31/100\n",
      "7500/7500 [==============================] - 1s 121us/step - loss: 0.3349 - acc: 0.8641 0s - loss: 0.3298 - acc: \n",
      "Epoch 32/100\n",
      "7500/7500 [==============================] - 1s 117us/step - loss: 0.3344 - acc: 0.8636\n",
      "Epoch 33/100\n",
      "7500/7500 [==============================] - 1s 128us/step - loss: 0.3342 - acc: 0.8639 0s - loss: 0.3294 - acc: \n",
      "Epoch 34/100\n",
      "7500/7500 [==============================] - 1s 124us/step - loss: 0.3342 - acc: 0.8623 0s - loss: 0.34\n",
      "Epoch 35/100\n",
      "7500/7500 [==============================] - 1s 120us/step - loss: 0.3342 - acc: 0.8619\n",
      "Epoch 36/100\n",
      "7500/7500 [==============================] - 1s 122us/step - loss: 0.3336 - acc: 0.8635\n",
      "Epoch 37/100\n",
      "7500/7500 [==============================] - 1s 137us/step - loss: 0.3335 - acc: 0.8636 0s - loss: 0.3343 - acc: 0.863\n",
      "Epoch 38/100\n",
      "7500/7500 [==============================] - 1s 126us/step - loss: 0.3336 - acc: 0.8628 0s - loss: 0.3336 -\n",
      "Epoch 39/100\n",
      "7500/7500 [==============================] - 1s 120us/step - loss: 0.3338 - acc: 0.8629\n",
      "Epoch 40/100\n",
      "7500/7500 [==============================] - 1s 151us/step - loss: 0.3334 - acc: 0.8648\n",
      "Epoch 41/100\n",
      "7500/7500 [==============================] - 1s 128us/step - loss: 0.3337 - acc: 0.8637\n",
      "Epoch 42/100\n",
      "7500/7500 [==============================] - 1s 142us/step - loss: 0.3332 - acc: 0.8639 0s - loss: 0.3319 - acc\n",
      "Epoch 43/100\n",
      "7500/7500 [==============================] - 1s 146us/step - loss: 0.3331 - acc: 0.8641\n",
      "Epoch 44/100\n",
      "7500/7500 [==============================] - 1s 126us/step - loss: 0.3329 - acc: 0.8641 0s - loss: 0.3353 - acc: 0\n",
      "Epoch 45/100\n",
      "7500/7500 [==============================] - 1s 147us/step - loss: 0.3334 - acc: 0.8616\n",
      "Epoch 46/100\n",
      "7500/7500 [==============================] - 1s 171us/step - loss: 0.3331 - acc: 0.8643\n",
      "Epoch 47/100\n",
      "7500/7500 [==============================] - 1s 151us/step - loss: 0.3327 - acc: 0.8656\n",
      "Epoch 48/100\n",
      "7500/7500 [==============================] - 1s 142us/step - loss: 0.3331 - acc: 0.8636 0s - loss: 0.329\n",
      "Epoch 49/100\n",
      "7500/7500 [==============================] - 1s 146us/step - loss: 0.3322 - acc: 0.8651\n",
      "Epoch 50/100\n",
      "7500/7500 [==============================] - 1s 134us/step - loss: 0.3325 - acc: 0.8640 0s - loss: 0.3269 -\n",
      "Epoch 51/100\n",
      "7500/7500 [==============================] - 1s 162us/step - loss: 0.3328 - acc: 0.8637\n",
      "Epoch 52/100\n",
      "7500/7500 [==============================] - 1s 144us/step - loss: 0.3323 - acc: 0.8632\n",
      "Epoch 53/100\n",
      "7500/7500 [==============================] - 1s 169us/step - loss: 0.3326 - acc: 0.8645\n",
      "Epoch 54/100\n",
      "7500/7500 [==============================] - 1s 141us/step - loss: 0.3328 - acc: 0.8632 0s - loss: 0.3343 - acc\n",
      "Epoch 55/100\n",
      "7500/7500 [==============================] - 1s 148us/step - loss: 0.3327 - acc: 0.8631\n",
      "Epoch 56/100\n",
      "7500/7500 [==============================] - 1s 150us/step - loss: 0.3329 - acc: 0.8633\n",
      "Epoch 57/100\n",
      "7500/7500 [==============================] - 1s 156us/step - loss: 0.3324 - acc: 0.8644 0s - loss: 0.3362 - acc: 0.86 - ETA: 0s - loss: 0.3338 - ac\n",
      "Epoch 58/100\n",
      "7500/7500 [==============================] - 1s 127us/step - loss: 0.3328 - acc: 0.8637\n",
      "Epoch 59/100\n",
      "7500/7500 [==============================] - 1s 131us/step - loss: 0.3323 - acc: 0.8655\n",
      "Epoch 60/100\n",
      "7500/7500 [==============================] - 1s 118us/step - loss: 0.3324 - acc: 0.8639\n",
      "Epoch 61/100\n",
      "7500/7500 [==============================] - 1s 119us/step - loss: 0.3321 - acc: 0.8632\n",
      "Epoch 62/100\n",
      "7500/7500 [==============================] - 1s 137us/step - loss: 0.3321 - acc: 0.8648\n",
      "Epoch 63/100\n",
      "7500/7500 [==============================] - 1s 124us/step - loss: 0.3322 - acc: 0.8641\n",
      "Epoch 64/100\n",
      "7500/7500 [==============================] - 1s 133us/step - loss: 0.3320 - acc: 0.8645\n",
      "Epoch 65/100\n",
      "7500/7500 [==============================] - 1s 136us/step - loss: 0.3320 - acc: 0.8648\n",
      "Epoch 66/100\n",
      "7500/7500 [==============================] - 1s 136us/step - loss: 0.3323 - acc: 0.8647\n",
      "Epoch 67/100\n",
      "7500/7500 [==============================] - 1s 158us/step - loss: 0.3320 - acc: 0.8623\n",
      "Epoch 68/100\n",
      "7500/7500 [==============================] - 1s 156us/step - loss: 0.3319 - acc: 0.8651\n",
      "Epoch 69/100\n",
      "7500/7500 [==============================] - 1s 128us/step - loss: 0.3319 - acc: 0.8637\n",
      "Epoch 70/100\n",
      "7500/7500 [==============================] - 1s 142us/step - loss: 0.3315 - acc: 0.8643 0s - loss: 0.3278 - acc: 0.8\n",
      "Epoch 71/100\n",
      "7500/7500 [==============================] - 1s 121us/step - loss: 0.3320 - acc: 0.8648\n",
      "Epoch 72/100\n",
      "7500/7500 [==============================] - 1s 116us/step - loss: 0.3323 - acc: 0.8631 0s - loss: 0.3\n",
      "Epoch 73/100\n",
      "7500/7500 [==============================] - 1s 117us/step - loss: 0.3323 - acc: 0.8637\n",
      "Epoch 74/100\n",
      "7500/7500 [==============================] - 1s 132us/step - loss: 0.3320 - acc: 0.8656\n",
      "Epoch 75/100\n",
      "7500/7500 [==============================] - 1s 114us/step - loss: 0.3322 - acc: 0.8628\n",
      "Epoch 76/100\n",
      "7500/7500 [==============================] - 1s 120us/step - loss: 0.3320 - acc: 0.8641 0s - loss: 0.3286 - acc: 0\n",
      "Epoch 77/100\n"
     ]
    },
    {
     "name": "stdout",
     "output_type": "stream",
     "text": [
      "7500/7500 [==============================] - 1s 123us/step - loss: 0.3321 - acc: 0.8613\n",
      "Epoch 78/100\n",
      "7500/7500 [==============================] - 1s 115us/step - loss: 0.3315 - acc: 0.8645\n",
      "Epoch 79/100\n",
      "7500/7500 [==============================] - 1s 111us/step - loss: 0.3315 - acc: 0.8640\n",
      "Epoch 80/100\n",
      "7500/7500 [==============================] - 1s 120us/step - loss: 0.3322 - acc: 0.8647\n",
      "Epoch 81/100\n",
      "7500/7500 [==============================] - 1s 123us/step - loss: 0.3315 - acc: 0.8640 0s - loss: 0.3304 - acc: 0.8\n",
      "Epoch 82/100\n",
      "7500/7500 [==============================] - 1s 106us/step - loss: 0.3317 - acc: 0.8623\n",
      "Epoch 83/100\n",
      "7500/7500 [==============================] - 1s 108us/step - loss: 0.3318 - acc: 0.8647\n",
      "Epoch 84/100\n",
      "7500/7500 [==============================] - 1s 112us/step - loss: 0.3314 - acc: 0.8633\n",
      "Epoch 85/100\n",
      "7500/7500 [==============================] - 1s 111us/step - loss: 0.3317 - acc: 0.8644 0s - loss: 0.3297 - acc: 0\n",
      "Epoch 86/100\n",
      "7500/7500 [==============================] - 1s 112us/step - loss: 0.3315 - acc: 0.8652\n",
      "Epoch 87/100\n",
      "7500/7500 [==============================] - 1s 113us/step - loss: 0.3318 - acc: 0.8643\n",
      "Epoch 88/100\n",
      "7500/7500 [==============================] - 1s 123us/step - loss: 0.3311 - acc: 0.8647\n",
      "Epoch 89/100\n",
      "7500/7500 [==============================] - 1s 115us/step - loss: 0.3316 - acc: 0.8656\n",
      "Epoch 90/100\n",
      "7500/7500 [==============================] - 1s 116us/step - loss: 0.3318 - acc: 0.8657\n",
      "Epoch 91/100\n",
      "7500/7500 [==============================] - 1s 119us/step - loss: 0.3315 - acc: 0.8643\n",
      "Epoch 92/100\n",
      "7500/7500 [==============================] - 1s 107us/step - loss: 0.3312 - acc: 0.8661\n",
      "Epoch 93/100\n",
      "7500/7500 [==============================] - 1s 109us/step - loss: 0.3314 - acc: 0.8645\n",
      "Epoch 94/100\n",
      "7500/7500 [==============================] - 1s 110us/step - loss: 0.3314 - acc: 0.8643 0s - loss: 0.3354 - acc:\n",
      "Epoch 95/100\n",
      "7500/7500 [==============================] - 1s 123us/step - loss: 0.3309 - acc: 0.8637\n",
      "Epoch 96/100\n",
      "7500/7500 [==============================] - 1s 110us/step - loss: 0.3312 - acc: 0.8643\n",
      "Epoch 97/100\n",
      "7500/7500 [==============================] - 1s 112us/step - loss: 0.3317 - acc: 0.8637\n",
      "Epoch 98/100\n",
      "7500/7500 [==============================] - 1s 115us/step - loss: 0.3316 - acc: 0.8636\n",
      "Epoch 99/100\n",
      "7500/7500 [==============================] - 1s 118us/step - loss: 0.3314 - acc: 0.8637\n",
      "Epoch 100/100\n",
      "7500/7500 [==============================] - 1s 110us/step - loss: 0.3311 - acc: 0.8665\n"
     ]
    },
    {
     "data": {
      "text/plain": [
       "<keras.callbacks.History at 0x12be12390>"
      ]
     },
     "execution_count": 11,
     "metadata": {},
     "output_type": "execute_result"
    }
   ],
   "source": [
    "# Fitting the ANN to the training set\n",
    "classifier.fit(X_train, y_train, batch_size = 10, epochs=100)"
   ]
  },
  {
   "cell_type": "code",
   "execution_count": 12,
   "metadata": {},
   "outputs": [],
   "source": [
    "# Fitting classifier to the Training set\n",
    "\n",
    "# Predicting the Test set results\n",
    "y_pred = classifier.predict(X_test) # Returns ONLY probabilities of people leaving the bank\n",
    "\n",
    "# Convert probabilities to True/False using a threshold value in order to evaluate the model. Threshold value will\n",
    "# be dependent on the sensitivity of the results\n",
    "\n",
    "y_pred = (y_pred > 0.5) # Compares each value to 0.5 threshold and replaces with bool\n",
    "\n",
    "\n",
    "# Making the Confusion Matrix\n",
    "from sklearn.metrics import confusion_matrix\n",
    "cm = confusion_matrix(y_test, y_pred)"
   ]
  },
  {
   "cell_type": "code",
   "execution_count": 13,
   "metadata": {},
   "outputs": [
    {
     "data": {
      "text/plain": [
       "array([[1887,  104],\n",
       "       [ 248,  261]])"
      ]
     },
     "execution_count": 13,
     "metadata": {},
     "output_type": "execute_result"
    }
   ],
   "source": [
    "cm"
   ]
  },
  {
   "cell_type": "code",
   "execution_count": 14,
   "metadata": {},
   "outputs": [
    {
     "data": {
      "text/plain": [
       "2106"
      ]
     },
     "execution_count": 14,
     "metadata": {},
     "output_type": "execute_result"
    }
   ],
   "source": [
    "1923 + 183"
   ]
  },
  {
   "cell_type": "code",
   "execution_count": 15,
   "metadata": {},
   "outputs": [
    {
     "data": {
      "text/plain": [
       "2500"
      ]
     },
     "execution_count": 15,
     "metadata": {},
     "output_type": "execute_result"
    }
   ],
   "source": [
    "1923 + 183 + 68 + 326"
   ]
  },
  {
   "cell_type": "code",
   "execution_count": 16,
   "metadata": {},
   "outputs": [
    {
     "data": {
      "text/plain": [
       "0.8424"
      ]
     },
     "execution_count": 16,
     "metadata": {},
     "output_type": "execute_result"
    }
   ],
   "source": [
    "2106/2500 # Accuracy score"
   ]
  },
  {
   "cell_type": "markdown",
   "metadata": {},
   "source": [
    "## Evaluate the ANN"
   ]
  },
  {
   "cell_type": "markdown",
   "metadata": {},
   "source": [
    "* We need a keras wrapper for scikit_learn's cross validation so that we can utilize cross valudation on our keras model"
   ]
  },
  {
   "cell_type": "code",
   "execution_count": 19,
   "metadata": {},
   "outputs": [],
   "source": [
    "from keras.wrappers.scikit_learn import KerasClassifier\n",
    "from sklearn.model_selection import cross_val_score"
   ]
  },
  {
   "cell_type": "code",
   "execution_count": 20,
   "metadata": {},
   "outputs": [],
   "source": [
    "def build_classifier():\n",
    "    classifier = Sequential()\n",
    "    classifier.add(Dense(activation=\"relu\", input_dim=11, units=6, kernel_initializer=\"uniform\"))\n",
    "    classifier.add(Dense(activation=\"relu\", units=6, kernel_initializer=\"uniform\"))\n",
    "    classifier.add(Dense(activation=\"sigmoid\", units=1, kernel_initializer=\"uniform\"))\n",
    "    classifier.compile(optimizer= 'adam', loss = 'binary_crossentropy', metrics=['accuracy'])\n",
    "    return classifier"
   ]
  },
  {
   "cell_type": "code",
   "execution_count": 21,
   "metadata": {},
   "outputs": [],
   "source": [
    "classifier = KerasClassifier(build_fn = build_classifier, batch_size=10, epochs=100)\n",
    "\n",
    "# Will contain all the accuracies generated by k-fold cross validation\n",
    "# CV is the number of K-folds we want\n",
    "# nj_jobs will allow us to do parallel computing so that we can train 10 k folds in a reasonable about of time,\n",
    "# nj_jobs = -1 essentially tells the computer to use all available CPUs\n",
    "accuracies = cross_val_score(estimator = classifier, X = X_train, y = y_train, cv=10, n_jobs= -1) "
   ]
  },
  {
   "cell_type": "code",
   "execution_count": 27,
   "metadata": {},
   "outputs": [
    {
     "data": {
      "text/plain": [
       "0.8437333288987476"
      ]
     },
     "execution_count": 27,
     "metadata": {},
     "output_type": "execute_result"
    }
   ],
   "source": [
    "mean = accuracies.mean()\n",
    "variance = accuracies.std()\n",
    "mean"
   ]
  },
  {
   "cell_type": "code",
   "execution_count": 28,
   "metadata": {},
   "outputs": [
    {
     "data": {
      "text/plain": [
       "0.019329194618068445"
      ]
     },
     "execution_count": 28,
     "metadata": {},
     "output_type": "execute_result"
    }
   ],
   "source": [
    "variance"
   ]
  },
  {
   "cell_type": "markdown",
   "metadata": {},
   "source": [
    "### Low bias!, low variance!"
   ]
  },
  {
   "cell_type": "markdown",
   "metadata": {},
   "source": [
    "## Tuning ANN hyperparameters using GridSearchCV"
   ]
  },
  {
   "cell_type": "markdown",
   "metadata": {},
   "source": [
    "* **Warning:** Grid Search w/ 10 k-folds will take hours to train"
   ]
  },
  {
   "cell_type": "code",
   "execution_count": 29,
   "metadata": {},
   "outputs": [],
   "source": [
    "from keras.wrappers.scikit_learn import KerasClassifier\n",
    "from sklearn.model_selection import GridSearchCV"
   ]
  },
  {
   "cell_type": "markdown",
   "metadata": {},
   "source": [
    "* If you want to tune hyperparameters that are in the architecture of your ANN, then you need to pass it along as function paramter"
   ]
  },
  {
   "cell_type": "code",
   "execution_count": null,
   "metadata": {},
   "outputs": [],
   "source": [
    "def build_classifier(optimizer):\n",
    "    classifier = Sequential()\n",
    "    classifier.add(Dense(activation=\"relu\", input_dim=11, units=6, kernel_initializer=\"uniform\"))\n",
    "    classifier.add(Dense(activation=\"relu\", units=6, kernel_initializer=\"uniform\"))\n",
    "    classifier.add(Dense(activation=\"sigmoid\", units=1, kernel_initializer=\"uniform\"))\n",
    "    classifier.compile(optimizer= optimizer, loss = 'binary_crossentropy', metrics=['accuracy'])\n",
    "    return classifier"
   ]
  },
  {
   "cell_type": "code",
   "execution_count": null,
   "metadata": {},
   "outputs": [],
   "source": [
    "classifier = KerasClassifier(build_fn = build_classifier)"
   ]
  },
  {
   "cell_type": "code",
   "execution_count": null,
   "metadata": {},
   "outputs": [],
   "source": [
    "parameters = {'batch_size': [25, 32], 'epochs': [100, 250], 'optimizer': ['adam', 'rmsprop']}"
   ]
  },
  {
   "cell_type": "code",
   "execution_count": null,
   "metadata": {},
   "outputs": [],
   "source": [
    "# GridSearch hyperparameters w/ 10 folds\n",
    "grid_search = GridSearchCV(estimator = classifier, param_grid = parameters, scoring = 'accuracy', cv = 10)"
   ]
  },
  {
   "cell_type": "code",
   "execution_count": null,
   "metadata": {},
   "outputs": [],
   "source": [
    "grid_search = grid_search.fit(X_train, y_train)"
   ]
  },
  {
   "cell_type": "code",
   "execution_count": null,
   "metadata": {},
   "outputs": [],
   "source": [
    "best_parameters = grid_search.best_parameters_\n",
    "best_accuracy = grid_search.best_accuracy"
   ]
  }
 ],
 "metadata": {
  "kernelspec": {
   "display_name": "Python 3",
   "language": "python",
   "name": "python3"
  },
  "language_info": {
   "codemirror_mode": {
    "name": "ipython",
    "version": 3
   },
   "file_extension": ".py",
   "mimetype": "text/x-python",
   "name": "python",
   "nbconvert_exporter": "python",
   "pygments_lexer": "ipython3",
   "version": "3.7.1"
  }
 },
 "nbformat": 4,
 "nbformat_minor": 2
}
