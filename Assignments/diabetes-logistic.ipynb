{
 "cells": [
  {
   "cell_type": "code",
   "execution_count": 103,
   "metadata": {},
   "outputs": [],
   "source": [
    "import numpy as np\n",
    "import pandas as pd\n",
    "from sklearn.model_selection import train_test_split\n",
    "\n",
    "\n",
    "import keras\n",
    "from keras.models import Sequential\n",
    "from keras.layers import Dense"
   ]
  },
  {
   "cell_type": "code",
   "execution_count": 104,
   "metadata": {},
   "outputs": [
    {
     "data": {
      "text/html": [
       "<div>\n",
       "<style scoped>\n",
       "    .dataframe tbody tr th:only-of-type {\n",
       "        vertical-align: middle;\n",
       "    }\n",
       "\n",
       "    .dataframe tbody tr th {\n",
       "        vertical-align: top;\n",
       "    }\n",
       "\n",
       "    .dataframe thead th {\n",
       "        text-align: right;\n",
       "    }\n",
       "</style>\n",
       "<table border=\"1\" class=\"dataframe\">\n",
       "  <thead>\n",
       "    <tr style=\"text-align: right;\">\n",
       "      <th></th>\n",
       "      <th>Pregnancies</th>\n",
       "      <th>Glucose</th>\n",
       "      <th>BloodPressure</th>\n",
       "      <th>SkinThickness</th>\n",
       "      <th>Insulin</th>\n",
       "      <th>BMI</th>\n",
       "      <th>DiabetesPedigreeFunction</th>\n",
       "      <th>Age</th>\n",
       "      <th>Outcome</th>\n",
       "    </tr>\n",
       "  </thead>\n",
       "  <tbody>\n",
       "    <tr>\n",
       "      <th>0</th>\n",
       "      <td>6</td>\n",
       "      <td>148</td>\n",
       "      <td>72</td>\n",
       "      <td>35</td>\n",
       "      <td>0</td>\n",
       "      <td>33.6</td>\n",
       "      <td>0.627</td>\n",
       "      <td>50</td>\n",
       "      <td>1</td>\n",
       "    </tr>\n",
       "    <tr>\n",
       "      <th>1</th>\n",
       "      <td>1</td>\n",
       "      <td>85</td>\n",
       "      <td>66</td>\n",
       "      <td>29</td>\n",
       "      <td>0</td>\n",
       "      <td>26.6</td>\n",
       "      <td>0.351</td>\n",
       "      <td>31</td>\n",
       "      <td>0</td>\n",
       "    </tr>\n",
       "    <tr>\n",
       "      <th>2</th>\n",
       "      <td>8</td>\n",
       "      <td>183</td>\n",
       "      <td>64</td>\n",
       "      <td>0</td>\n",
       "      <td>0</td>\n",
       "      <td>23.3</td>\n",
       "      <td>0.672</td>\n",
       "      <td>32</td>\n",
       "      <td>1</td>\n",
       "    </tr>\n",
       "    <tr>\n",
       "      <th>3</th>\n",
       "      <td>1</td>\n",
       "      <td>89</td>\n",
       "      <td>66</td>\n",
       "      <td>23</td>\n",
       "      <td>94</td>\n",
       "      <td>28.1</td>\n",
       "      <td>0.167</td>\n",
       "      <td>21</td>\n",
       "      <td>0</td>\n",
       "    </tr>\n",
       "    <tr>\n",
       "      <th>4</th>\n",
       "      <td>0</td>\n",
       "      <td>137</td>\n",
       "      <td>40</td>\n",
       "      <td>35</td>\n",
       "      <td>168</td>\n",
       "      <td>43.1</td>\n",
       "      <td>2.288</td>\n",
       "      <td>33</td>\n",
       "      <td>1</td>\n",
       "    </tr>\n",
       "  </tbody>\n",
       "</table>\n",
       "</div>"
      ],
      "text/plain": [
       "   Pregnancies  Glucose  BloodPressure  SkinThickness  Insulin   BMI  \\\n",
       "0            6      148             72             35        0  33.6   \n",
       "1            1       85             66             29        0  26.6   \n",
       "2            8      183             64              0        0  23.3   \n",
       "3            1       89             66             23       94  28.1   \n",
       "4            0      137             40             35      168  43.1   \n",
       "\n",
       "   DiabetesPedigreeFunction  Age  Outcome  \n",
       "0                     0.627   50        1  \n",
       "1                     0.351   31        0  \n",
       "2                     0.672   32        1  \n",
       "3                     0.167   21        0  \n",
       "4                     2.288   33        1  "
      ]
     },
     "execution_count": 104,
     "metadata": {},
     "output_type": "execute_result"
    }
   ],
   "source": [
    "diabetes = pd.read_csv('../data/diabetes.csv')\n",
    "diabetes.head()\n",
    "# print(diabetes.DESCR)"
   ]
  },
  {
   "cell_type": "code",
   "execution_count": 105,
   "metadata": {},
   "outputs": [
    {
     "data": {
      "text/html": [
       "<div>\n",
       "<style scoped>\n",
       "    .dataframe tbody tr th:only-of-type {\n",
       "        vertical-align: middle;\n",
       "    }\n",
       "\n",
       "    .dataframe tbody tr th {\n",
       "        vertical-align: top;\n",
       "    }\n",
       "\n",
       "    .dataframe thead th {\n",
       "        text-align: right;\n",
       "    }\n",
       "</style>\n",
       "<table border=\"1\" class=\"dataframe\">\n",
       "  <thead>\n",
       "    <tr style=\"text-align: right;\">\n",
       "      <th></th>\n",
       "      <th>Outcome</th>\n",
       "    </tr>\n",
       "  </thead>\n",
       "  <tbody>\n",
       "    <tr>\n",
       "      <th>0</th>\n",
       "      <td>1</td>\n",
       "    </tr>\n",
       "    <tr>\n",
       "      <th>1</th>\n",
       "      <td>0</td>\n",
       "    </tr>\n",
       "    <tr>\n",
       "      <th>2</th>\n",
       "      <td>1</td>\n",
       "    </tr>\n",
       "    <tr>\n",
       "      <th>3</th>\n",
       "      <td>0</td>\n",
       "    </tr>\n",
       "    <tr>\n",
       "      <th>4</th>\n",
       "      <td>1</td>\n",
       "    </tr>\n",
       "  </tbody>\n",
       "</table>\n",
       "</div>"
      ],
      "text/plain": [
       "   Outcome\n",
       "0        1\n",
       "1        0\n",
       "2        1\n",
       "3        0\n",
       "4        1"
      ]
     },
     "execution_count": 105,
     "metadata": {},
     "output_type": "execute_result"
    }
   ],
   "source": [
    "X = diabetes.loc[:, 'Pregnancies':'Age']\n",
    "y = pd.DataFrame(data=diabetes[\"Outcome\"], columns=[\"Outcome\"])\n",
    "y.head()"
   ]
  },
  {
   "cell_type": "code",
   "execution_count": 106,
   "metadata": {},
   "outputs": [],
   "source": [
    "X_train, X_test, y_train, y_test = train_test_split(X, y, test_size = 0.25, random_state = 0)"
   ]
  },
  {
   "cell_type": "code",
   "execution_count": 107,
   "metadata": {},
   "outputs": [
    {
     "name": "stderr",
     "output_type": "stream",
     "text": [
      "/Users/natepill/anaconda3/lib/python3.7/site-packages/sklearn/preprocessing/data.py:625: DataConversionWarning: Data with input dtype int64, float64 were all converted to float64 by StandardScaler.\n",
      "  return self.partial_fit(X, y)\n",
      "/Users/natepill/anaconda3/lib/python3.7/site-packages/sklearn/base.py:462: DataConversionWarning: Data with input dtype int64, float64 were all converted to float64 by StandardScaler.\n",
      "  return self.fit(X, **fit_params).transform(X)\n",
      "/usr/local/lib/python3.7/site-packages/ipykernel_launcher.py:5: DataConversionWarning: Data with input dtype int64, float64 were all converted to float64 by StandardScaler.\n",
      "  \"\"\"\n"
     ]
    }
   ],
   "source": [
    "# Scaling\n",
    "from sklearn.preprocessing import StandardScaler\n",
    "sc = StandardScaler()\n",
    "X_train = sc.fit_transform(X_train)\n",
    "X_test = sc.transform(X_test)"
   ]
  },
  {
   "cell_type": "code",
   "execution_count": 108,
   "metadata": {},
   "outputs": [],
   "source": [
    "# Initialize Classifier Model\n",
    "classifier = Sequential()"
   ]
  },
  {
   "cell_type": "code",
   "execution_count": 109,
   "metadata": {},
   "outputs": [],
   "source": [
    "\n",
    "# Add input and output\n",
    "classifier.add(Dense(activation='softmax', input_dim=8, units=1, kernel_initializer=\"uniform\"))\n",
    "# Compile the model\n",
    "classifier.compile(optimizer='adam', loss='binary_crossentropy', metrics=['accuracy'])\n"
   ]
  },
  {
   "cell_type": "code",
   "execution_count": 110,
   "metadata": {},
   "outputs": [
    {
     "name": "stdout",
     "output_type": "stream",
     "text": [
      "Epoch 1/100\n",
      "576/576 [==============================] - 1s 1ms/step - loss: 10.2408 - acc: 0.3576: 0s - loss: 10.6465 -\n",
      "Epoch 2/100\n",
      "576/576 [==============================] - 1s 1ms/step - loss: 10.2408 - acc: 0.3576\n",
      "Epoch 3/100\n",
      "576/576 [==============================] - 0s 863us/step - loss: 10.2408 - acc: 0.3576\n",
      "Epoch 4/100\n",
      "576/576 [==============================] - 0s 773us/step - loss: 10.2408 - acc: 0.3576\n",
      "Epoch 5/100\n",
      "576/576 [==============================] - 1s 876us/step - loss: 10.2408 - acc: 0.3576\n",
      "Epoch 6/100\n",
      "576/576 [==============================] - 0s 862us/step - loss: 10.2408 - acc: 0.3576\n",
      "Epoch 7/100\n",
      "576/576 [==============================] - 0s 779us/step - loss: 10.2408 - acc: 0.3576\n",
      "Epoch 8/100\n",
      "576/576 [==============================] - 0s 770us/step - loss: 10.2408 - acc: 0.3576\n",
      "Epoch 9/100\n",
      "576/576 [==============================] - 0s 792us/step - loss: 10.2408 - acc: 0.3576\n",
      "Epoch 10/100\n",
      "576/576 [==============================] - 1s 904us/step - loss: 10.2408 - acc: 0.3576\n",
      "Epoch 11/100\n",
      "576/576 [==============================] - 1s 883us/step - loss: 10.2408 - acc: 0.3576\n",
      "Epoch 12/100\n",
      "576/576 [==============================] - 0s 780us/step - loss: 10.2408 - acc: 0.3576\n",
      "Epoch 13/100\n",
      "576/576 [==============================] - 1s 914us/step - loss: 10.2408 - acc: 0.3576\n",
      "Epoch 14/100\n",
      "576/576 [==============================] - 1s 938us/step - loss: 10.2408 - acc: 0.3576\n",
      "Epoch 15/100\n",
      "576/576 [==============================] - 1s 927us/step - loss: 10.2408 - acc: 0.3576\n",
      "Epoch 16/100\n",
      "576/576 [==============================] - 0s 790us/step - loss: 10.2408 - acc: 0.3576\n",
      "Epoch 17/100\n",
      "576/576 [==============================] - 1s 934us/step - loss: 10.2408 - acc: 0.3576\n",
      "Epoch 18/100\n",
      "576/576 [==============================] - 1s 1ms/step - loss: 10.2408 - acc: 0.3576: 0s - loss: 10.6167 - acc: \n",
      "Epoch 19/100\n",
      "576/576 [==============================] - 1s 1ms/step - loss: 10.2408 - acc: 0.3576\n",
      "Epoch 20/100\n",
      "576/576 [==============================] - 0s 819us/step - loss: 10.2408 - acc: 0.3576\n",
      "Epoch 21/100\n",
      "576/576 [==============================] - 1s 978us/step - loss: 10.2408 - acc: 0.3576\n",
      "Epoch 22/100\n",
      "576/576 [==============================] - 1s 1ms/step - loss: 10.2408 - acc: 0.3576: 0s - loss: 10.3157 - acc: \n",
      "Epoch 23/100\n",
      "576/576 [==============================] - 0s 777us/step - loss: 10.2408 - acc: 0.3576\n",
      "Epoch 24/100\n",
      "576/576 [==============================] - 0s 798us/step - loss: 10.2408 - acc: 0.3576\n",
      "Epoch 25/100\n",
      "576/576 [==============================] - 1s 878us/step - loss: 10.2408 - acc: 0.3576\n",
      "Epoch 26/100\n",
      "576/576 [==============================] - 0s 796us/step - loss: 10.2408 - acc: 0.3576\n",
      "Epoch 27/100\n",
      "576/576 [==============================] - 0s 801us/step - loss: 10.2408 - acc: 0.3576\n",
      "Epoch 28/100\n",
      "576/576 [==============================] - 1s 981us/step - loss: 10.2408 - acc: 0.3576\n",
      "Epoch 29/100\n",
      "576/576 [==============================] - 1s 1ms/step - loss: 10.2408 - acc: 0.3576: 0s - loss: 10.5370 -\n",
      "Epoch 30/100\n",
      "576/576 [==============================] - 0s 789us/step - loss: 10.2408 - acc: 0.3576\n",
      "Epoch 31/100\n",
      "576/576 [==============================] - 0s 848us/step - loss: 10.2408 - acc: 0.3576\n",
      "Epoch 32/100\n",
      "576/576 [==============================] - 0s 819us/step - loss: 10.2408 - acc: 0.3576\n",
      "Epoch 33/100\n",
      "576/576 [==============================] - 1s 912us/step - loss: 10.2408 - acc: 0.3576\n",
      "Epoch 34/100\n",
      "576/576 [==============================] - 1s 1ms/step - loss: 10.2408 - acc: 0.3576\n",
      "Epoch 35/100\n",
      "576/576 [==============================] - 0s 865us/step - loss: 10.2408 - acc: 0.3576\n",
      "Epoch 36/100\n",
      "576/576 [==============================] - 0s 829us/step - loss: 10.2408 - acc: 0.3576\n",
      "Epoch 37/100\n",
      "576/576 [==============================] - 1s 951us/step - loss: 10.2408 - acc: 0.3576\n",
      "Epoch 38/100\n",
      "576/576 [==============================] - 1s 907us/step - loss: 10.2408 - acc: 0.3576\n",
      "Epoch 39/100\n",
      "576/576 [==============================] - 1s 992us/step - loss: 10.2408 - acc: 0.3576\n",
      "Epoch 40/100\n",
      "576/576 [==============================] - 1s 891us/step - loss: 10.2408 - acc: 0.3576\n",
      "Epoch 41/100\n",
      "576/576 [==============================] - 0s 802us/step - loss: 10.2408 - acc: 0.3576\n",
      "Epoch 42/100\n",
      "576/576 [==============================] - 0s 852us/step - loss: 10.2408 - acc: 0.3576\n",
      "Epoch 43/100\n",
      "576/576 [==============================] - 0s 854us/step - loss: 10.2408 - acc: 0.3576\n",
      "Epoch 44/100\n",
      "576/576 [==============================] - 1s 942us/step - loss: 10.2408 - acc: 0.3576\n",
      "Epoch 45/100\n",
      "576/576 [==============================] - 1s 1ms/step - loss: 10.2408 - acc: 0.3576\n",
      "Epoch 46/100\n",
      "576/576 [==============================] - 1s 972us/step - loss: 10.2408 - acc: 0.35760s - loss: 10.0626 - acc\n",
      "Epoch 47/100\n",
      "576/576 [==============================] - 0s 866us/step - loss: 10.2408 - acc: 0.3576\n",
      "Epoch 48/100\n",
      "576/576 [==============================] - 1s 1ms/step - loss: 10.2408 - acc: 0.3576\n",
      "Epoch 49/100\n",
      "576/576 [==============================] - 1s 968us/step - loss: 10.2408 - acc: 0.3576\n",
      "Epoch 50/100\n",
      "576/576 [==============================] - 1s 966us/step - loss: 10.2408 - acc: 0.3576\n",
      "Epoch 51/100\n",
      "576/576 [==============================] - 1s 995us/step - loss: 10.2408 - acc: 0.3576: 0s - loss: 10.\n",
      "Epoch 52/100\n",
      "576/576 [==============================] - 1s 1ms/step - loss: 10.2408 - acc: 0.3576\n",
      "Epoch 53/100\n",
      "576/576 [==============================] - 1s 909us/step - loss: 10.2408 - acc: 0.3576\n",
      "Epoch 54/100\n",
      "576/576 [==============================] - 1s 944us/step - loss: 10.2408 - acc: 0.3576\n",
      "Epoch 55/100\n",
      "576/576 [==============================] - 1s 870us/step - loss: 10.2408 - acc: 0.3576\n",
      "Epoch 56/100\n",
      "576/576 [==============================] - 1s 2ms/step - loss: 10.2408 - acc: 0.3576\n",
      "Epoch 57/100\n",
      "576/576 [==============================] - 1s 1ms/step - loss: 10.2408 - acc: 0.3576\n",
      "Epoch 58/100\n",
      "576/576 [==============================] - 1s 1ms/step - loss: 10.2408 - acc: 0.3576\n",
      "Epoch 59/100\n",
      "576/576 [==============================] - 1s 973us/step - loss: 10.2408 - acc: 0.3576\n",
      "Epoch 60/100\n",
      "576/576 [==============================] - 1s 1ms/step - loss: 10.2408 - acc: 0.3576\n",
      "Epoch 61/100\n",
      "576/576 [==============================] - 1s 994us/step - loss: 10.2408 - acc: 0.3576\n",
      "Epoch 62/100\n",
      "576/576 [==============================] - 1s 1ms/step - loss: 10.2408 - acc: 0.3576\n",
      "Epoch 63/100\n",
      "576/576 [==============================] - 1s 1ms/step - loss: 10.2408 - acc: 0.3576\n",
      "Epoch 64/100\n",
      "576/576 [==============================] - 1s 1ms/step - loss: 10.2408 - acc: 0.3576\n",
      "Epoch 65/100\n",
      "576/576 [==============================] - 1s 1ms/step - loss: 10.2408 - acc: 0.3576\n",
      "Epoch 66/100\n",
      "576/576 [==============================] - 1s 1ms/step - loss: 10.2408 - acc: 0.3576A: 0s - loss: 9.895\n",
      "Epoch 67/100\n",
      "576/576 [==============================] - 1s 1ms/step - loss: 10.2408 - acc: 0.3576\n",
      "Epoch 68/100\n",
      "576/576 [==============================] - 1s 930us/step - loss: 10.2408 - acc: 0.3576\n",
      "Epoch 69/100\n",
      "576/576 [==============================] - 1s 1ms/step - loss: 10.2408 - acc: 0.3576\n",
      "Epoch 70/100\n",
      "576/576 [==============================] - 1s 1ms/step - loss: 10.2408 - acc: 0.3576\n",
      "Epoch 71/100\n",
      "576/576 [==============================] - 1s 1ms/step - loss: 10.2408 - acc: 0.3576A: 0s - loss: 10.1337 - acc: 0.\n",
      "Epoch 72/100\n",
      "576/576 [==============================] - 1s 1ms/step - loss: 10.2408 - acc: 0.3576\n",
      "Epoch 73/100\n",
      "576/576 [==============================] - 1s 1ms/step - loss: 10.2408 - acc: 0.3576\n",
      "Epoch 74/100\n",
      "576/576 [==============================] - 1s 1ms/step - loss: 10.2408 - acc: 0.3576\n",
      "Epoch 75/100\n",
      "576/576 [==============================] - 1s 1ms/step - loss: 10.2408 - acc: 0.3576\n",
      "Epoch 76/100\n",
      "576/576 [==============================] - 1s 1ms/step - loss: 10.2408 - acc: 0.3576\n",
      "Epoch 77/100\n",
      "576/576 [==============================] - 1s 1ms/step - loss: 10.2408 - acc: 0.3576\n",
      "Epoch 78/100\n",
      "576/576 [==============================] - 1s 1ms/step - loss: 10.2408 - acc: 0.3576\n",
      "Epoch 79/100\n",
      "576/576 [==============================] - 1s 1ms/step - loss: 10.2408 - acc: 0.3576\n",
      "Epoch 80/100\n",
      "576/576 [==============================] - 0s 859us/step - loss: 10.2408 - acc: 0.3576\n",
      "Epoch 81/100\n"
     ]
    },
    {
     "name": "stdout",
     "output_type": "stream",
     "text": [
      "576/576 [==============================] - 0s 854us/step - loss: 10.2408 - acc: 0.3576\n",
      "Epoch 82/100\n",
      "576/576 [==============================] - 1s 1ms/step - loss: 10.2408 - acc: 0.3576\n",
      "Epoch 83/100\n",
      "576/576 [==============================] - 1s 901us/step - loss: 10.2408 - acc: 0.3576\n",
      "Epoch 84/100\n",
      "576/576 [==============================] - 1s 927us/step - loss: 10.2408 - acc: 0.3576\n",
      "Epoch 85/100\n",
      "576/576 [==============================] - 1s 914us/step - loss: 10.2408 - acc: 0.3576\n",
      "Epoch 86/100\n",
      "576/576 [==============================] - 1s 925us/step - loss: 10.2408 - acc: 0.3576\n",
      "Epoch 87/100\n",
      "576/576 [==============================] - 1s 935us/step - loss: 10.2408 - acc: 0.3576\n",
      "Epoch 88/100\n",
      "576/576 [==============================] - 1s 2ms/step - loss: 10.2408 - acc: 0.3576\n",
      "Epoch 89/100\n",
      "576/576 [==============================] - 1s 1ms/step - loss: 10.2408 - acc: 0.3576: 0s - loss: 10.1617 -\n",
      "Epoch 90/100\n",
      "576/576 [==============================] - 1s 987us/step - loss: 10.2408 - acc: 0.3576\n",
      "Epoch 91/100\n",
      "576/576 [==============================] - 1s 1ms/step - loss: 10.2408 - acc: 0.3576\n",
      "Epoch 92/100\n",
      "576/576 [==============================] - 0s 859us/step - loss: 10.2408 - acc: 0.3576\n",
      "Epoch 93/100\n",
      "576/576 [==============================] - 1s 924us/step - loss: 10.2408 - acc: 0.3576\n",
      "Epoch 94/100\n",
      "576/576 [==============================] - 1s 1ms/step - loss: 10.2408 - acc: 0.3576\n",
      "Epoch 95/100\n",
      "576/576 [==============================] - 1s 900us/step - loss: 10.2408 - acc: 0.3576\n",
      "Epoch 96/100\n",
      "576/576 [==============================] - 1s 893us/step - loss: 10.2408 - acc: 0.3576\n",
      "Epoch 97/100\n",
      "576/576 [==============================] - 0s 834us/step - loss: 10.2408 - acc: 0.3576\n",
      "Epoch 98/100\n",
      "576/576 [==============================] - 1s 900us/step - loss: 10.2408 - acc: 0.3576\n",
      "Epoch 99/100\n",
      "576/576 [==============================] - 1s 933us/step - loss: 10.2408 - acc: 0.3576\n",
      "Epoch 100/100\n",
      "576/576 [==============================] - 0s 802us/step - loss: 10.2408 - acc: 0.3576\n"
     ]
    },
    {
     "data": {
      "text/plain": [
       "<keras.callbacks.History at 0x135866400>"
      ]
     },
     "execution_count": 110,
     "metadata": {},
     "output_type": "execute_result"
    }
   ],
   "source": [
    "# Fit the model\n",
    "classifier.fit(X_train, y_train, batch_size = 1, epochs=100)"
   ]
  },
  {
   "cell_type": "code",
   "execution_count": 111,
   "metadata": {},
   "outputs": [],
   "source": [
    "# Predicting the Test set results\n",
    "y_pred = classifier.predict(X_test)\n",
    "y_pred = (y_pred > 0.5) # Compares each value to 0.5 threshold and replaces with bool\n",
    "\n",
    "\n",
    "# y_pred"
   ]
  },
  {
   "cell_type": "code",
   "execution_count": 112,
   "metadata": {},
   "outputs": [],
   "source": [
    "# Making the Confusion Matrix\n",
    "from sklearn.metrics import confusion_matrix\n",
    "cm = confusion_matrix(y_test, y_pred)"
   ]
  },
  {
   "cell_type": "code",
   "execution_count": 102,
   "metadata": {},
   "outputs": [
    {
     "data": {
      "text/plain": [
       "array([[  0, 130],\n",
       "       [  0,  62]])"
      ]
     },
     "execution_count": 102,
     "metadata": {},
     "output_type": "execute_result"
    }
   ],
   "source": [
    "cm"
   ]
  },
  {
   "cell_type": "markdown",
   "metadata": {},
   "source": [
    "### Logistic Regression Classification, traditional ML"
   ]
  },
  {
   "cell_type": "code",
   "execution_count": 113,
   "metadata": {},
   "outputs": [
    {
     "name": "stderr",
     "output_type": "stream",
     "text": [
      "/Users/natepill/anaconda3/lib/python3.7/site-packages/sklearn/utils/validation.py:761: DataConversionWarning: A column-vector y was passed when a 1d array was expected. Please change the shape of y to (n_samples, ), for example using ravel().\n",
      "  y = column_or_1d(y, warn=True)\n"
     ]
    }
   ],
   "source": [
    "from sklearn.linear_model import LogisticRegression\n",
    "lf = LogisticRegression(random_state=0, solver='liblinear', multi_class='ovr').fit(X_train, y_train)"
   ]
  },
  {
   "cell_type": "code",
   "execution_count": null,
   "metadata": {},
   "outputs": [],
   "source": []
  }
 ],
 "metadata": {
  "kernelspec": {
   "display_name": "Python 3",
   "language": "python",
   "name": "python3"
  },
  "language_info": {
   "codemirror_mode": {
    "name": "ipython",
    "version": 3
   },
   "file_extension": ".py",
   "mimetype": "text/x-python",
   "name": "python",
   "nbconvert_exporter": "python",
   "pygments_lexer": "ipython3",
   "version": "3.7.1"
  }
 },
 "nbformat": 4,
 "nbformat_minor": 2
}
