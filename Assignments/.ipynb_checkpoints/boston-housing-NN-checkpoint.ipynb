{
 "cells": [
  {
   "cell_type": "markdown",
   "metadata": {},
   "source": [
    "## Assignment Plan\n",
    "* Clean/Preprocess data\n",
    "* Build NN with all features (13 input nodes)\n",
    "* ReLU activation for hidden layers and Linear transformation activation for output layer\n",
    "* Evaluate model and try to improve accuracy based on:\n",
    "    * Different activations for hidden layer\n",
    "    * Differnt number of hidden layers and nodes in hidden layers\n",
    "    * Change input data to remove irrelevant columns based on CorrPlot"
   ]
  },
  {
   "cell_type": "code",
   "execution_count": 135,
   "metadata": {},
   "outputs": [],
   "source": [
    "import numpy as np\n",
    "import matplotlib.pyplot as plt\n",
    "import pandas as pd\n",
    "from sklearn.datasets import load_boston # Boston Housing data"
   ]
  },
  {
   "cell_type": "code",
   "execution_count": 136,
   "metadata": {},
   "outputs": [],
   "source": [
    "# Building Boston Housing DF\n",
    "\n",
    "boston = load_boston()\n",
    "bos = pd.DataFrame(boston.data)\n",
    "bos.head()\n",
    "bos.columns = boston.feature_names\n",
    "# bos.head()"
   ]
  },
  {
   "cell_type": "code",
   "execution_count": 149,
   "metadata": {},
   "outputs": [],
   "source": [
    "X = bos # Input values\n",
    "y = boston.target # true values"
   ]
  },
  {
   "cell_type": "code",
   "execution_count": 148,
   "metadata": {},
   "outputs": [
    {
     "data": {
      "text/plain": [
       "13"
      ]
     },
     "execution_count": 148,
     "metadata": {},
     "output_type": "execute_result"
    }
   ],
   "source": [
    "len(bos.columns) # number of input nodes in input layer\n",
    "# bos.head()"
   ]
  },
  {
   "cell_type": "code",
   "execution_count": 139,
   "metadata": {},
   "outputs": [],
   "source": [
    "# Splitting the dataset into the Training set and Test set\n",
    "from sklearn.model_selection import train_test_split\n",
    "X_train, X_test, y_train, y_test = train_test_split(X, y, test_size = 0.25, random_state = 0)"
   ]
  },
  {
   "cell_type": "code",
   "execution_count": 140,
   "metadata": {},
   "outputs": [],
   "source": [
    "from sklearn.preprocessing import StandardScaler\n",
    "sc = StandardScaler()\n",
    "X_train = sc.fit_transform(X_train)\n",
    "X_test = sc.transform(X_test)"
   ]
  },
  {
   "cell_type": "code",
   "execution_count": 141,
   "metadata": {},
   "outputs": [],
   "source": [
    "import keras\n",
    "from keras.models import Sequential\n",
    "from keras.layers import Dense"
   ]
  },
  {
   "cell_type": "code",
   "execution_count": 142,
   "metadata": {},
   "outputs": [],
   "source": [
    "# Initialize the Sequential ANN for classification\n",
    "classifier = Sequential()\n",
    "\n",
    "# hidden units = (13 + 1) / 2 =7\n",
    "\n",
    "#Input layer\n",
    "classifier.add(Dense(activation=\"relu\", input_dim=13, units=7, kernel_initializer=\"uniform\"))\n",
    "\n",
    "# Adding second hidden layer\n",
    "classifier.add(Dense(activation=\"relu\", units=7, kernel_initializer=\"uniform\"))\n",
    "\n",
    "# Adding output layer\n",
    "classifier.add(Dense(activation=\"linear\", units=1, kernel_initializer=\"uniform\"))"
   ]
  },
  {
   "cell_type": "markdown",
   "metadata": {},
   "source": [
    "### TODO:\n",
    "* Trying compiling the ANN with sgd instead of adam\n",
    "* Different batch sizes"
   ]
  },
  {
   "cell_type": "code",
   "execution_count": 143,
   "metadata": {},
   "outputs": [],
   "source": [
    "# Compile our ANN with Adam GD, Mean Squared Error error metric, and we are optimizing for accuracy\n",
    "classifier.compile(optimizer='adam', loss='mse', metrics=['accuracy'])"
   ]
  },
  {
   "cell_type": "code",
   "execution_count": 145,
   "metadata": {},
   "outputs": [
    {
     "name": "stdout",
     "output_type": "stream",
     "text": [
      "Epoch 1/100\n",
      "379/379 [==============================] - 0s 296us/step - loss: 17.9992 - acc: 0.0026\n",
      "Epoch 2/100\n",
      "379/379 [==============================] - 0s 189us/step - loss: 17.8424 - acc: 0.0079\n",
      "Epoch 3/100\n",
      "379/379 [==============================] - 0s 204us/step - loss: 18.1628 - acc: 0.0053\n",
      "Epoch 4/100\n",
      "379/379 [==============================] - 0s 196us/step - loss: 18.1152 - acc: 0.0053\n",
      "Epoch 5/100\n",
      "379/379 [==============================] - 0s 185us/step - loss: 17.5022 - acc: 0.0079\n",
      "Epoch 6/100\n",
      "379/379 [==============================] - 0s 187us/step - loss: 17.8188 - acc: 0.0026\n",
      "Epoch 7/100\n",
      "379/379 [==============================] - 0s 177us/step - loss: 17.8799 - acc: 0.0132\n",
      "Epoch 8/100\n",
      "379/379 [==============================] - 0s 192us/step - loss: 17.4921 - acc: 0.0158\n",
      "Epoch 9/100\n",
      "379/379 [==============================] - 0s 197us/step - loss: 17.6367 - acc: 0.0132\n",
      "Epoch 10/100\n",
      "379/379 [==============================] - 0s 187us/step - loss: 17.3340 - acc: 0.0132\n",
      "Epoch 11/100\n",
      "379/379 [==============================] - 0s 196us/step - loss: 17.8864 - acc: 0.0079\n",
      "Epoch 12/100\n",
      "379/379 [==============================] - 0s 204us/step - loss: 17.5831 - acc: 0.0053\n",
      "Epoch 13/100\n",
      "379/379 [==============================] - 0s 204us/step - loss: 17.4113 - acc: 0.0079\n",
      "Epoch 14/100\n",
      "379/379 [==============================] - 0s 237us/step - loss: 18.4279 - acc: 0.0079\n",
      "Epoch 15/100\n",
      "379/379 [==============================] - 0s 178us/step - loss: 18.2040 - acc: 0.0079\n",
      "Epoch 16/100\n",
      "379/379 [==============================] - 0s 197us/step - loss: 18.0229 - acc: 0.0053\n",
      "Epoch 17/100\n",
      "379/379 [==============================] - 0s 192us/step - loss: 17.6054 - acc: 0.0158\n",
      "Epoch 18/100\n",
      "379/379 [==============================] - 0s 186us/step - loss: 18.0208 - acc: 0.0079\n",
      "Epoch 19/100\n",
      "379/379 [==============================] - 0s 187us/step - loss: 17.9317 - acc: 0.0106\n",
      "Epoch 20/100\n",
      "379/379 [==============================] - 0s 195us/step - loss: 17.5317 - acc: 0.0106\n",
      "Epoch 21/100\n",
      "379/379 [==============================] - 0s 200us/step - loss: 17.5264 - acc: 0.0158\n",
      "Epoch 22/100\n",
      "379/379 [==============================] - 0s 185us/step - loss: 18.6623 - acc: 0.0026\n",
      "Epoch 23/100\n",
      "379/379 [==============================] - 0s 184us/step - loss: 17.2233 - acc: 0.0079\n",
      "Epoch 24/100\n",
      "379/379 [==============================] - 0s 200us/step - loss: 18.0071 - acc: 0.0106\n",
      "Epoch 25/100\n",
      "379/379 [==============================] - 0s 195us/step - loss: 17.5979 - acc: 0.0079\n",
      "Epoch 26/100\n",
      "379/379 [==============================] - 0s 190us/step - loss: 17.7109 - acc: 0.0079\n",
      "Epoch 27/100\n",
      "379/379 [==============================] - 0s 200us/step - loss: 17.3389 - acc: 0.0053\n",
      "Epoch 28/100\n",
      "379/379 [==============================] - 0s 198us/step - loss: 17.5157 - acc: 0.0106\n",
      "Epoch 29/100\n",
      "379/379 [==============================] - 0s 191us/step - loss: 18.2002 - acc: 0.0106\n",
      "Epoch 30/100\n",
      "379/379 [==============================] - 0s 197us/step - loss: 17.7417 - acc: 0.0106\n",
      "Epoch 31/100\n",
      "379/379 [==============================] - 0s 187us/step - loss: 17.7712 - acc: 0.0079\n",
      "Epoch 32/100\n",
      "379/379 [==============================] - 0s 201us/step - loss: 17.8072 - acc: 0.0079\n",
      "Epoch 33/100\n",
      "379/379 [==============================] - 0s 193us/step - loss: 17.6005 - acc: 0.0132\n",
      "Epoch 34/100\n",
      "379/379 [==============================] - 0s 202us/step - loss: 17.1206 - acc: 0.0106\n",
      "Epoch 35/100\n",
      "379/379 [==============================] - 0s 191us/step - loss: 17.2155 - acc: 0.0053\n",
      "Epoch 36/100\n",
      "379/379 [==============================] - 0s 197us/step - loss: 17.8387 - acc: 0.0185\n",
      "Epoch 37/100\n",
      "379/379 [==============================] - 0s 198us/step - loss: 17.7761 - acc: 0.0158\n",
      "Epoch 38/100\n",
      "379/379 [==============================] - 0s 193us/step - loss: 17.5814 - acc: 0.0106\n",
      "Epoch 39/100\n",
      "379/379 [==============================] - 0s 188us/step - loss: 17.2309 - acc: 0.0132\n",
      "Epoch 40/100\n",
      "379/379 [==============================] - 0s 194us/step - loss: 18.0037 - acc: 0.0053\n",
      "Epoch 41/100\n",
      "379/379 [==============================] - 0s 206us/step - loss: 17.6571 - acc: 0.0106\n",
      "Epoch 42/100\n",
      "379/379 [==============================] - 0s 175us/step - loss: 18.1292 - acc: 0.0106\n",
      "Epoch 43/100\n",
      "379/379 [==============================] - 0s 174us/step - loss: 17.1137 - acc: 0.0132\n",
      "Epoch 44/100\n",
      "379/379 [==============================] - 0s 189us/step - loss: 17.5379 - acc: 0.0132\n",
      "Epoch 45/100\n",
      "379/379 [==============================] - 0s 186us/step - loss: 17.9224 - acc: 0.0079\n",
      "Epoch 46/100\n",
      "379/379 [==============================] - 0s 194us/step - loss: 17.6819 - acc: 0.0053\n",
      "Epoch 47/100\n",
      "379/379 [==============================] - 0s 192us/step - loss: 17.4710 - acc: 0.0079\n",
      "Epoch 48/100\n",
      "379/379 [==============================] - 0s 195us/step - loss: 17.8811 - acc: 0.0106\n",
      "Epoch 49/100\n",
      "379/379 [==============================] - 0s 192us/step - loss: 17.4129 - acc: 0.0106\n",
      "Epoch 50/100\n",
      "379/379 [==============================] - 0s 178us/step - loss: 17.4663 - acc: 0.0106\n",
      "Epoch 51/100\n",
      "379/379 [==============================] - 0s 174us/step - loss: 18.4147 - acc: 0.0053\n",
      "Epoch 52/100\n",
      "379/379 [==============================] - 0s 180us/step - loss: 18.4328 - acc: 0.0106\n",
      "Epoch 53/100\n",
      "379/379 [==============================] - 0s 174us/step - loss: 17.1964 - acc: 0.0106\n",
      "Epoch 54/100\n",
      "379/379 [==============================] - 0s 165us/step - loss: 17.6851 - acc: 0.0079\n",
      "Epoch 55/100\n",
      "379/379 [==============================] - 0s 167us/step - loss: 17.4987 - acc: 0.0079\n",
      "Epoch 56/100\n",
      "379/379 [==============================] - 0s 168us/step - loss: 17.8957 - acc: 0.0106\n",
      "Epoch 57/100\n",
      "379/379 [==============================] - 0s 184us/step - loss: 17.4159 - acc: 0.0132\n",
      "Epoch 58/100\n",
      "379/379 [==============================] - 0s 188us/step - loss: 17.3721 - acc: 0.0106\n",
      "Epoch 59/100\n",
      "379/379 [==============================] - 0s 176us/step - loss: 18.0950 - acc: 0.0132\n",
      "Epoch 60/100\n",
      "379/379 [==============================] - 0s 171us/step - loss: 17.1328 - acc: 0.0079\n",
      "Epoch 61/100\n",
      "379/379 [==============================] - 0s 171us/step - loss: 17.5366 - acc: 0.0106\n",
      "Epoch 62/100\n",
      "379/379 [==============================] - 0s 185us/step - loss: 18.8471 - acc: 0.0132\n",
      "Epoch 63/100\n",
      "379/379 [==============================] - 0s 176us/step - loss: 17.8886 - acc: 0.0079\n",
      "Epoch 64/100\n",
      "379/379 [==============================] - 0s 161us/step - loss: 17.3138 - acc: 0.0106\n",
      "Epoch 65/100\n",
      "379/379 [==============================] - 0s 166us/step - loss: 17.6069 - acc: 0.0053\n",
      "Epoch 66/100\n",
      "379/379 [==============================] - 0s 167us/step - loss: 17.6787 - acc: 0.0237\n",
      "Epoch 67/100\n",
      "379/379 [==============================] - 0s 185us/step - loss: 17.4214 - acc: 0.0079\n",
      "Epoch 68/100\n",
      "379/379 [==============================] - 0s 167us/step - loss: 18.2200 - acc: 0.0106\n",
      "Epoch 69/100\n",
      "379/379 [==============================] - 0s 179us/step - loss: 17.8013 - acc: 0.0132\n",
      "Epoch 70/100\n",
      "379/379 [==============================] - 0s 183us/step - loss: 17.5486 - acc: 0.0132TA: 0s - loss: 18.7026 - acc: 0.0143  \n",
      "Epoch 71/100\n",
      "379/379 [==============================] - 0s 203us/step - loss: 18.0890 - acc: 0.0132\n",
      "Epoch 72/100\n",
      "379/379 [==============================] - 0s 183us/step - loss: 17.6964 - acc: 0.0106\n",
      "Epoch 73/100\n",
      "379/379 [==============================] - 0s 179us/step - loss: 17.1541 - acc: 0.0053\n",
      "Epoch 74/100\n",
      "379/379 [==============================] - 0s 177us/step - loss: 17.6956 - acc: 0.0079\n",
      "Epoch 75/100\n",
      "379/379 [==============================] - 0s 196us/step - loss: 18.1536 - acc: 0.0132\n",
      "Epoch 76/100\n",
      "379/379 [==============================] - 0s 177us/step - loss: 18.4047 - acc: 0.0026\n",
      "Epoch 77/100\n",
      "379/379 [==============================] - 0s 188us/step - loss: 17.1860 - acc: 0.0053\n",
      "Epoch 78/100\n",
      "379/379 [==============================] - 0s 172us/step - loss: 18.0807 - acc: 0.0106\n",
      "Epoch 79/100\n",
      "379/379 [==============================] - 0s 186us/step - loss: 17.2117 - acc: 0.0079\n",
      "Epoch 80/100\n",
      "379/379 [==============================] - 0s 194us/step - loss: 17.2979 - acc: 0.0079\n",
      "Epoch 81/100\n",
      "379/379 [==============================] - 0s 181us/step - loss: 18.0008 - acc: 0.0053\n",
      "Epoch 82/100\n"
     ]
    },
    {
     "name": "stdout",
     "output_type": "stream",
     "text": [
      "379/379 [==============================] - 0s 188us/step - loss: 18.5181 - acc: 0.0079\n",
      "Epoch 83/100\n",
      "379/379 [==============================] - 0s 187us/step - loss: 17.6626 - acc: 0.0079\n",
      "Epoch 84/100\n",
      "379/379 [==============================] - 0s 187us/step - loss: 17.8970 - acc: 0.0079\n",
      "Epoch 85/100\n",
      "379/379 [==============================] - 0s 170us/step - loss: 17.3389 - acc: 0.0106\n",
      "Epoch 86/100\n",
      "379/379 [==============================] - 0s 165us/step - loss: 17.9736 - acc: 0.0053\n",
      "Epoch 87/100\n",
      "379/379 [==============================] - 0s 171us/step - loss: 17.3331 - acc: 0.0106\n",
      "Epoch 88/100\n",
      "379/379 [==============================] - 0s 185us/step - loss: 17.8154 - acc: 0.0132\n",
      "Epoch 89/100\n",
      "379/379 [==============================] - 0s 169us/step - loss: 17.2754 - acc: 0.0079\n",
      "Epoch 90/100\n",
      "379/379 [==============================] - 0s 173us/step - loss: 17.6368 - acc: 0.0211\n",
      "Epoch 91/100\n",
      "379/379 [==============================] - 0s 177us/step - loss: 17.7944 - acc: 0.0026\n",
      "Epoch 92/100\n",
      "379/379 [==============================] - 0s 179us/step - loss: 17.5810 - acc: 0.0079\n",
      "Epoch 93/100\n",
      "379/379 [==============================] - 0s 180us/step - loss: 18.2548 - acc: 0.0132\n",
      "Epoch 94/100\n",
      "379/379 [==============================] - 0s 179us/step - loss: 17.9151 - acc: 0.0053\n",
      "Epoch 95/100\n",
      "379/379 [==============================] - 0s 208us/step - loss: 17.9407 - acc: 0.0106\n",
      "Epoch 96/100\n",
      "379/379 [==============================] - 0s 177us/step - loss: 17.9515 - acc: 0.0106\n",
      "Epoch 97/100\n",
      "379/379 [==============================] - 0s 183us/step - loss: 17.5077 - acc: 0.0158\n",
      "Epoch 98/100\n",
      "379/379 [==============================] - 0s 171us/step - loss: 18.0731 - acc: 0.0132\n",
      "Epoch 99/100\n",
      "379/379 [==============================] - 0s 173us/step - loss: 17.7659 - acc: 0.0079\n",
      "Epoch 100/100\n",
      "379/379 [==============================] - 0s 160us/step - loss: 17.0020 - acc: 0.0026\n"
     ]
    },
    {
     "data": {
      "text/plain": [
       "<keras.callbacks.History at 0x12b113be0>"
      ]
     },
     "execution_count": 145,
     "metadata": {},
     "output_type": "execute_result"
    }
   ],
   "source": [
    "# Reminder: batch size is a hyperparameter that defines the number of samples to work \n",
    "# through before updating the internal model parameters\n",
    "# For the difference between epochs and batchsize, read: https://machinelearningmastery.com/difference-between-a-batch-and-an-epoch/\n",
    "\n",
    "# Using Mini batch GD\n",
    "# Fitting the ANN to the training set\n",
    "classifier.fit(X_train, y_train, batch_size = 5, epochs=100)"
   ]
  },
  {
   "cell_type": "code",
   "execution_count": 102,
   "metadata": {},
   "outputs": [],
   "source": [
    "# Predicting the Test set results\n",
    "y_pred = classifier.predict(X_test)\n"
   ]
  }
 ],
 "metadata": {
  "kernelspec": {
   "display_name": "Python 3",
   "language": "python",
   "name": "python3"
  },
  "language_info": {
   "codemirror_mode": {
    "name": "ipython",
    "version": 3
   },
   "file_extension": ".py",
   "mimetype": "text/x-python",
   "name": "python",
   "nbconvert_exporter": "python",
   "pygments_lexer": "ipython3",
   "version": "3.7.1"
  }
 },
 "nbformat": 4,
 "nbformat_minor": 2
}
