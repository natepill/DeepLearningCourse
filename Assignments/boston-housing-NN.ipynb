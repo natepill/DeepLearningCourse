{
 "cells": [
  {
   "cell_type": "markdown",
   "metadata": {},
   "source": [
    "## Assignment Plan\n",
    "* Clean/Preprocess data\n",
    "* Build NN with all features (13 input nodes)\n",
    "* ReLU activation for hidden layers and Linear transformation activation for output layer\n",
    "* Evaluate model and try to improve accuracy based on:\n",
    "    * Different activations for hidden layer\n",
    "    * Differnt number of hidden layers and nodes in hidden layers\n",
    "    * Change input data to remove irrelevant columns based on CorrPlot"
   ]
  },
  {
   "cell_type": "code",
   "execution_count": 160,
   "metadata": {},
   "outputs": [],
   "source": [
    "import numpy as np\n",
    "import matplotlib.pyplot as plt\n",
    "import pandas as pd\n",
    "from sklearn.datasets import load_boston # Boston Housing data"
   ]
  },
  {
   "cell_type": "code",
   "execution_count": 161,
   "metadata": {},
   "outputs": [],
   "source": [
    "# Building Boston Housing DF\n",
    "\n",
    "boston = load_boston()\n",
    "bos = pd.DataFrame(boston.data)\n",
    "bos.head()\n",
    "bos.columns = boston.feature_names\n",
    "# bos.head()"
   ]
  },
  {
   "cell_type": "code",
   "execution_count": 162,
   "metadata": {},
   "outputs": [],
   "source": [
    "X = bos # Input values\n",
    "y = boston.target # true values"
   ]
  },
  {
   "cell_type": "code",
   "execution_count": 163,
   "metadata": {},
   "outputs": [
    {
     "data": {
      "text/plain": [
       "13"
      ]
     },
     "execution_count": 163,
     "metadata": {},
     "output_type": "execute_result"
    }
   ],
   "source": [
    "len(bos.columns) # number of input nodes in input layer\n",
    "# bos.head()"
   ]
  },
  {
   "cell_type": "code",
   "execution_count": 164,
   "metadata": {},
   "outputs": [],
   "source": [
    "# Splitting the dataset into the Training set and Test set\n",
    "from sklearn.model_selection import train_test_split\n",
    "X_train, X_test, y_train, y_test = train_test_split(X, y, test_size = 0.25, random_state = 0)"
   ]
  },
  {
   "cell_type": "code",
   "execution_count": 165,
   "metadata": {},
   "outputs": [],
   "source": [
    "from sklearn.preprocessing import StandardScaler\n",
    "sc = StandardScaler()\n",
    "X_train = sc.fit_transform(X_train)\n",
    "X_test = sc.transform(X_test)"
   ]
  },
  {
   "cell_type": "code",
   "execution_count": 166,
   "metadata": {},
   "outputs": [],
   "source": [
    "import keras\n",
    "from keras.models import Sequential\n",
    "from keras.layers import Dense"
   ]
  },
  {
   "cell_type": "code",
   "execution_count": 170,
   "metadata": {},
   "outputs": [],
   "source": [
    "# Initialize the Sequential ANN for classification\n",
    "classifier = Sequential()\n",
    "\n",
    "# hidden units = (13 + 1) / 2 =7\n",
    "\n",
    "#Input layer\n",
    "classifier.add(Dense(activation=\"relu\", input_dim=13, units=7, kernel_initializer=\"uniform\"))\n",
    "\n",
    "# Adding second hidden layer\n",
    "classifier.add(Dense(activation=\"relu\", units=7, kernel_initializer=\"uniform\"))\n",
    "\n",
    "# Adding output layer\n",
    "classifier.add(Dense(activation=\"selu\", units=1, kernel_initializer=\"uniform\"))"
   ]
  },
  {
   "cell_type": "markdown",
   "metadata": {},
   "source": [
    "### TODO:\n",
    "* Trying compiling the ANN with sgd instead of adam\n",
    "* Different batch sizes"
   ]
  },
  {
   "cell_type": "code",
   "execution_count": 168,
   "metadata": {},
   "outputs": [],
   "source": [
    "# Compile our ANN with Adam GD, Mean Squared Error error metric, and we are optimizing for accuracy\n",
    "classifier.compile(optimizer='adam', loss='mse', metrics=['accuracy'])"
   ]
  },
  {
   "cell_type": "code",
   "execution_count": 169,
   "metadata": {},
   "outputs": [
    {
     "name": "stdout",
     "output_type": "stream",
     "text": [
      "Epoch 1/100\n",
      "379/379 [==============================] - 0s 1ms/step - loss: 591.9177 - acc: 0.0000e+00\n",
      "Epoch 2/100\n",
      "379/379 [==============================] - 0s 220us/step - loss: 560.3068 - acc: 0.0000e+00\n",
      "Epoch 3/100\n",
      "379/379 [==============================] - 0s 215us/step - loss: 490.9658 - acc: 0.0000e+00\n",
      "Epoch 4/100\n",
      "379/379 [==============================] - 0s 211us/step - loss: 397.3035 - acc: 0.0000e+00\n",
      "Epoch 5/100\n",
      "379/379 [==============================] - 0s 281us/step - loss: 298.9940 - acc: 0.0000e+00\n",
      "Epoch 6/100\n",
      "379/379 [==============================] - 0s 235us/step - loss: 207.6754 - acc: 0.0000e+00\n",
      "Epoch 7/100\n",
      "379/379 [==============================] - 0s 247us/step - loss: 131.9385 - acc: 0.0000e+00\n",
      "Epoch 8/100\n",
      "379/379 [==============================] - 0s 227us/step - loss: 79.3732 - acc: 0.0053\n",
      "Epoch 9/100\n",
      "379/379 [==============================] - 0s 224us/step - loss: 51.1750 - acc: 0.0158\n",
      "Epoch 10/100\n",
      "379/379 [==============================] - 0s 218us/step - loss: 38.6349 - acc: 0.0106\n",
      "Epoch 11/100\n",
      "379/379 [==============================] - 0s 219us/step - loss: 33.2184 - acc: 0.0106\n",
      "Epoch 12/100\n",
      "379/379 [==============================] - 0s 224us/step - loss: 30.3083 - acc: 0.0132\n",
      "Epoch 13/100\n",
      "379/379 [==============================] - 0s 224us/step - loss: 28.3230 - acc: 0.0132\n",
      "Epoch 14/100\n",
      "379/379 [==============================] - 0s 235us/step - loss: 26.6036 - acc: 0.0132\n",
      "Epoch 15/100\n",
      "379/379 [==============================] - 0s 229us/step - loss: 25.2555 - acc: 0.0132\n",
      "Epoch 16/100\n",
      "379/379 [==============================] - 0s 225us/step - loss: 24.5590 - acc: 0.0106\n",
      "Epoch 17/100\n",
      "379/379 [==============================] - 0s 232us/step - loss: 23.6888 - acc: 0.0132\n",
      "Epoch 18/100\n",
      "379/379 [==============================] - 0s 233us/step - loss: 23.1189 - acc: 0.0132\n",
      "Epoch 19/100\n",
      "379/379 [==============================] - 0s 213us/step - loss: 22.3143 - acc: 0.0132\n",
      "Epoch 20/100\n",
      "379/379 [==============================] - 0s 202us/step - loss: 21.8196 - acc: 0.0106\n",
      "Epoch 21/100\n",
      "379/379 [==============================] - 0s 225us/step - loss: 21.3047 - acc: 0.0158\n",
      "Epoch 22/100\n",
      "379/379 [==============================] - 0s 229us/step - loss: 20.7763 - acc: 0.0106\n",
      "Epoch 23/100\n",
      "379/379 [==============================] - 0s 220us/step - loss: 20.2025 - acc: 0.0106\n",
      "Epoch 24/100\n",
      "379/379 [==============================] - 0s 245us/step - loss: 19.7679 - acc: 0.0132\n",
      "Epoch 25/100\n",
      "379/379 [==============================] - 0s 240us/step - loss: 19.4097 - acc: 0.0106\n",
      "Epoch 26/100\n",
      "379/379 [==============================] - 0s 263us/step - loss: 18.8101 - acc: 0.0132\n",
      "Epoch 27/100\n",
      "379/379 [==============================] - 0s 285us/step - loss: 18.6914 - acc: 0.0158\n",
      "Epoch 28/100\n",
      "379/379 [==============================] - 0s 249us/step - loss: 18.3488 - acc: 0.0132\n",
      "Epoch 29/100\n",
      "379/379 [==============================] - 0s 233us/step - loss: 18.0739 - acc: 0.0053\n",
      "Epoch 30/100\n",
      "379/379 [==============================] - 0s 231us/step - loss: 17.8277 - acc: 0.0106\n",
      "Epoch 31/100\n",
      "379/379 [==============================] - 0s 223us/step - loss: 17.4305 - acc: 0.0132\n",
      "Epoch 32/100\n",
      "379/379 [==============================] - 0s 250us/step - loss: 17.2212 - acc: 0.0106\n",
      "Epoch 33/100\n",
      "379/379 [==============================] - 0s 232us/step - loss: 16.8728 - acc: 0.0106\n",
      "Epoch 34/100\n",
      "379/379 [==============================] - 0s 219us/step - loss: 16.6687 - acc: 0.0132\n",
      "Epoch 35/100\n",
      "379/379 [==============================] - 0s 267us/step - loss: 16.4165 - acc: 0.0132\n",
      "Epoch 36/100\n",
      "379/379 [==============================] - 0s 269us/step - loss: 16.2972 - acc: 0.0106\n",
      "Epoch 37/100\n",
      "379/379 [==============================] - 0s 272us/step - loss: 16.1655 - acc: 0.0132\n",
      "Epoch 38/100\n",
      "379/379 [==============================] - 0s 252us/step - loss: 15.8398 - acc: 0.0132\n",
      "Epoch 39/100\n",
      "379/379 [==============================] - 0s 214us/step - loss: 15.8163 - acc: 0.0106\n",
      "Epoch 40/100\n",
      "379/379 [==============================] - 0s 255us/step - loss: 15.4835 - acc: 0.0079\n",
      "Epoch 41/100\n",
      "379/379 [==============================] - 0s 247us/step - loss: 15.3856 - acc: 0.0132\n",
      "Epoch 42/100\n",
      "379/379 [==============================] - 0s 206us/step - loss: 15.3574 - acc: 0.0106\n",
      "Epoch 43/100\n",
      "379/379 [==============================] - 0s 273us/step - loss: 15.0439 - acc: 0.0132\n",
      "Epoch 44/100\n",
      "379/379 [==============================] - 0s 277us/step - loss: 14.9671 - acc: 0.0106\n",
      "Epoch 45/100\n",
      "379/379 [==============================] - 0s 248us/step - loss: 14.8357 - acc: 0.0079\n",
      "Epoch 46/100\n",
      "379/379 [==============================] - 0s 266us/step - loss: 14.7391 - acc: 0.0053\n",
      "Epoch 47/100\n",
      "379/379 [==============================] - 0s 231us/step - loss: 14.7266 - acc: 0.0132\n",
      "Epoch 48/100\n",
      "379/379 [==============================] - 0s 212us/step - loss: 14.5329 - acc: 0.0132\n",
      "Epoch 49/100\n",
      "379/379 [==============================] - 0s 220us/step - loss: 14.5714 - acc: 0.0053\n",
      "Epoch 50/100\n",
      "379/379 [==============================] - 0s 217us/step - loss: 14.2974 - acc: 0.0079\n",
      "Epoch 51/100\n",
      "379/379 [==============================] - 0s 228us/step - loss: 14.2565 - acc: 0.0026\n",
      "Epoch 52/100\n",
      "379/379 [==============================] - 0s 236us/step - loss: 14.1025 - acc: 0.0106\n",
      "Epoch 53/100\n",
      "379/379 [==============================] - 0s 293us/step - loss: 14.0653 - acc: 0.0106\n",
      "Epoch 54/100\n",
      "379/379 [==============================] - 0s 245us/step - loss: 13.9817 - acc: 0.0079\n",
      "Epoch 55/100\n",
      "379/379 [==============================] - 0s 241us/step - loss: 13.8908 - acc: 0.0053\n",
      "Epoch 56/100\n",
      "379/379 [==============================] - 0s 288us/step - loss: 13.7609 - acc: 0.0079\n",
      "Epoch 57/100\n",
      "379/379 [==============================] - 0s 287us/step - loss: 13.7012 - acc: 0.0053\n",
      "Epoch 58/100\n",
      "379/379 [==============================] - 0s 253us/step - loss: 13.5992 - acc: 0.0079\n",
      "Epoch 59/100\n",
      "379/379 [==============================] - 0s 223us/step - loss: 13.5176 - acc: 0.0026\n",
      "Epoch 60/100\n",
      "379/379 [==============================] - 0s 213us/step - loss: 13.4638 - acc: 0.0079\n",
      "Epoch 61/100\n",
      "379/379 [==============================] - 0s 224us/step - loss: 13.4627 - acc: 0.0106\n",
      "Epoch 62/100\n",
      "379/379 [==============================] - 0s 213us/step - loss: 13.3782 - acc: 0.0079\n",
      "Epoch 63/100\n",
      "379/379 [==============================] - 0s 238us/step - loss: 13.1780 - acc: 0.0079\n",
      "Epoch 64/100\n",
      "379/379 [==============================] - 0s 273us/step - loss: 13.2302 - acc: 0.0079\n",
      "Epoch 65/100\n",
      "379/379 [==============================] - 0s 257us/step - loss: 13.1323 - acc: 0.0106\n",
      "Epoch 66/100\n",
      "379/379 [==============================] - 0s 231us/step - loss: 13.0852 - acc: 0.0053\n",
      "Epoch 67/100\n",
      "379/379 [==============================] - 0s 226us/step - loss: 13.0952 - acc: 0.0079\n",
      "Epoch 68/100\n",
      "379/379 [==============================] - 0s 197us/step - loss: 13.0851 - acc: 0.0079\n",
      "Epoch 69/100\n",
      "379/379 [==============================] - 0s 221us/step - loss: 12.9456 - acc: 0.0053\n",
      "Epoch 70/100\n",
      "379/379 [==============================] - 0s 221us/step - loss: 12.9063 - acc: 0.0079\n",
      "Epoch 71/100\n",
      "379/379 [==============================] - 0s 215us/step - loss: 12.8947 - acc: 0.0079\n",
      "Epoch 72/100\n",
      "379/379 [==============================] - 0s 323us/step - loss: 12.8600 - acc: 0.0079\n",
      "Epoch 73/100\n",
      "379/379 [==============================] - 0s 221us/step - loss: 12.7461 - acc: 0.0053\n",
      "Epoch 74/100\n",
      "379/379 [==============================] - 0s 194us/step - loss: 12.6934 - acc: 0.0053\n",
      "Epoch 75/100\n",
      "379/379 [==============================] - 0s 201us/step - loss: 12.5897 - acc: 0.0079\n",
      "Epoch 76/100\n",
      "379/379 [==============================] - 0s 197us/step - loss: 12.6679 - acc: 0.0079\n",
      "Epoch 77/100\n",
      "379/379 [==============================] - 0s 208us/step - loss: 12.6677 - acc: 0.0079\n",
      "Epoch 78/100\n",
      "379/379 [==============================] - 0s 220us/step - loss: 12.4094 - acc: 0.0053\n",
      "Epoch 79/100\n",
      "379/379 [==============================] - 0s 216us/step - loss: 12.4584 - acc: 0.0079\n",
      "Epoch 80/100\n",
      "379/379 [==============================] - 0s 226us/step - loss: 12.4389 - acc: 0.0053\n",
      "Epoch 81/100\n",
      "379/379 [==============================] - 0s 219us/step - loss: 12.4973 - acc: 0.0106\n",
      "Epoch 82/100\n"
     ]
    },
    {
     "name": "stdout",
     "output_type": "stream",
     "text": [
      "379/379 [==============================] - 0s 206us/step - loss: 12.4209 - acc: 0.0079\n",
      "Epoch 83/100\n",
      "379/379 [==============================] - 0s 221us/step - loss: 12.3048 - acc: 0.0053\n",
      "Epoch 84/100\n",
      "379/379 [==============================] - 0s 199us/step - loss: 12.3157 - acc: 0.0053\n",
      "Epoch 85/100\n",
      "379/379 [==============================] - 0s 197us/step - loss: 12.2581 - acc: 0.0053\n",
      "Epoch 86/100\n",
      "379/379 [==============================] - 0s 196us/step - loss: 12.1931 - acc: 0.0053\n",
      "Epoch 87/100\n",
      "379/379 [==============================] - 0s 313us/step - loss: 12.0526 - acc: 0.0079\n",
      "Epoch 88/100\n",
      "379/379 [==============================] - 0s 209us/step - loss: 12.0459 - acc: 0.0053\n",
      "Epoch 89/100\n",
      "379/379 [==============================] - 0s 205us/step - loss: 12.0921 - acc: 0.0079\n",
      "Epoch 90/100\n",
      "379/379 [==============================] - 0s 205us/step - loss: 11.9337 - acc: 0.0053\n",
      "Epoch 91/100\n",
      "379/379 [==============================] - 0s 204us/step - loss: 11.9377 - acc: 0.0079\n",
      "Epoch 92/100\n",
      "379/379 [==============================] - 0s 207us/step - loss: 12.0413 - acc: 0.0079\n",
      "Epoch 93/100\n",
      "379/379 [==============================] - 0s 213us/step - loss: 11.9146 - acc: 0.0079\n",
      "Epoch 94/100\n",
      "379/379 [==============================] - 0s 229us/step - loss: 11.8736 - acc: 0.0026\n",
      "Epoch 95/100\n",
      "379/379 [==============================] - 0s 227us/step - loss: 11.9403 - acc: 0.0053\n",
      "Epoch 96/100\n",
      "379/379 [==============================] - 0s 237us/step - loss: 11.7657 - acc: 0.0106\n",
      "Epoch 97/100\n",
      "379/379 [==============================] - 0s 226us/step - loss: 11.9256 - acc: 0.0026\n",
      "Epoch 98/100\n",
      "379/379 [==============================] - 0s 238us/step - loss: 11.8411 - acc: 0.0106\n",
      "Epoch 99/100\n",
      "379/379 [==============================] - 0s 223us/step - loss: 11.8366 - acc: 0.0053\n",
      "Epoch 100/100\n",
      "379/379 [==============================] - 0s 218us/step - loss: 11.7439 - acc: 0.0079\n"
     ]
    },
    {
     "data": {
      "text/plain": [
       "<keras.callbacks.History at 0x12b54f048>"
      ]
     },
     "execution_count": 169,
     "metadata": {},
     "output_type": "execute_result"
    }
   ],
   "source": [
    "# Reminder: batch size is a hyperparameter that defines the number of samples to work \n",
    "# through before updating the internal model parameters\n",
    "# For the difference between epochs and batchsize, read: https://machinelearningmastery.com/difference-between-a-batch-and-an-epoch/\n",
    "\n",
    "# Using Mini batch GD\n",
    "# Fitting the ANN to the training set\n",
    "classifier.fit(X_train, y_train, batch_size = 5, epochs=100)"
   ]
  },
  {
   "cell_type": "code",
   "execution_count": 102,
   "metadata": {},
   "outputs": [],
   "source": [
    "# Predicting the Test set results\n",
    "y_pred = classifier.predict(X_test)\n"
   ]
  }
 ],
 "metadata": {
  "kernelspec": {
   "display_name": "Python 3",
   "language": "python",
   "name": "python3"
  },
  "language_info": {
   "codemirror_mode": {
    "name": "ipython",
    "version": 3
   },
   "file_extension": ".py",
   "mimetype": "text/x-python",
   "name": "python",
   "nbconvert_exporter": "python",
   "pygments_lexer": "ipython3",
   "version": "3.7.1"
  }
 },
 "nbformat": 4,
 "nbformat_minor": 2
}
